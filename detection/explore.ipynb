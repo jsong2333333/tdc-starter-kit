{
 "cells": [
  {
   "cell_type": "code",
   "execution_count": 10,
   "metadata": {},
   "outputs": [],
   "source": [
    "import torch\n",
    "import os\n",
    "import json\n",
    "from tqdm import tqdm\n",
    "import numpy as np\n",
    "import matplotlib.pyplot as plt\n",
    "from torch import nn\n",
    "import torch.nn.functional as F\n",
    "import torch.backends.cudnn as cudnn\n",
    "import pandas as pd\n",
    "cudnn.benchmark = True  # fire on all cylinders\n",
    "from sklearn.metrics import roc_auc_score, roc_curve\n",
    "import sys\n",
    "from torchvision import datasets, transforms as T \n",
    "import seaborn as sns\n",
    "\n",
    "sys.path.insert(0, '..')\n",
    "device = torch.device('cuda' if torch.cuda.is_available() else 'cpu')\n",
    "import utils"
   ]
  },
  {
   "cell_type": "markdown",
   "metadata": {},
   "source": [
    "## Preparation"
   ]
  },
  {
   "cell_type": "code",
   "execution_count": 11,
   "metadata": {},
   "outputs": [],
   "source": [
    "dataset_path = '../../tdc_datasets'\n",
    "task = 'detection'\n",
    "MODEL_FILEDIR = os.path.join(dataset_path, task, 'train')\n",
    "EXTRACTED_DIR = './extracted_features'\n",
    "NUM_MODEL = 500\n",
    "model_classes = ['MNIST_Network', 'SimpleViT', 'WideResNet']\n",
    "clean_or_trojan = ['clean', 'trojan']\n",
    "TRIGGER_TYPE = ['patch', 'blended']\n",
    "\n",
    "def num_to_model_id(num):\n",
    "    return 'id-' + str(10000+num)[1:]"
   ]
  },
  {
   "cell_type": "markdown",
   "metadata": {},
   "source": [
    "## Load Dataset"
   ]
  },
  {
   "cell_type": "code",
   "execution_count": 28,
   "metadata": {},
   "outputs": [],
   "source": [
    "mnist_train, mnist_test, mnist_num_classes = utils.load_data('MNIST')\n",
    "gtsrb_train, gtsrb_test, gtsrb_num_classes = utils.load_data('GTSRB')\n",
    "train_sets_by_model_arch = {'mnist': mnist_train, 'vit': gtsrb_train}"
   ]
  },
  {
   "cell_type": "code",
   "execution_count": 45,
   "metadata": {},
   "outputs": [
    {
     "name": "stdout",
     "output_type": "stream",
     "text": [
      "Files already downloaded and verified\n",
      "Files already downloaded and verified\n"
     ]
    }
   ],
   "source": [
    "from torchvision.datasets import CIFAR10, CIFAR100, MNIST\n",
    "\n",
    "cifar10_ds = CIFAR10(root='../data/cifar10/test', train=False, download=True, transform=T.ToTensor())\n",
    "cifar100_ds = CIFAR100(root='../data/cifar100/test', train=False, download=True, transform=T.ToTensor())\n",
    "mnist_ds = MNIST(root='../data/mnist/test', train=False, download=True, transform=T.ToTensor())\n",
    "gtsrb_ds = datasets.ImageFolder('../data/gtsrb_preprocessed/test', transform=T.ToTensor())"
   ]
  },
  {
   "cell_type": "code",
   "execution_count": null,
   "metadata": {},
   "outputs": [],
   "source": [
    "model_dict = {'MNIST_Network': (1, 28, range(375, 500), mnist_ds, 10), \n",
    "                'SimpleViT': (3, 32, range(250, 375), gtsrb_ds, 43), \n",
    "                'WideResNet_10': (3, 32, range(0, 125), cifar10_ds, 10), \n",
    "                'WideResNet_100': (3, 32, range(125, 250), cifar100_ds, 100)}\n",
    "            # 'Model type (dataset type)': (num of channels, resolution, model id range, dataset, num of classes)"
   ]
  },
  {
   "cell_type": "code",
   "execution_count": 5,
   "metadata": {},
   "outputs": [],
   "source": [
    "from PIL import Image\n",
    "\n",
    "def show(imgs):\n",
    "    fix, axs = plt.subplots(ncols=len(imgs), squeeze=False)\n",
    "    for i, img in enumerate(imgs):\n",
    "        img = T.ToPILImage()(img.to('cpu'))\n",
    "        axs[0, i].imshow(np.asarray(img))\n",
    "        axs[0, i].set(xticklabels=[], yticklabels=[], xticks=[], yticks=[])"
   ]
  },
  {
   "cell_type": "markdown",
   "metadata": {},
   "source": [
    "1. revisit eigen value, explore layers that are important\n",
    "2. jacobian: extract eigen value out of the extracted features / try using input data or salt-and-pepper noise\n",
    "3. tuning GBM: ccp_alpha\n",
    "4. change t-score computation"
   ]
  },
  {
   "cell_type": "markdown",
   "metadata": {},
   "source": [
    "## Trojan Attacks Reproductions "
   ]
  },
  {
   "cell_type": "code",
   "execution_count": 29,
   "metadata": {},
   "outputs": [],
   "source": [
    "# the generate_attack_specifications function is provided by the competition organizer, with slight alternation\n",
    "def generate_attack_specifications(seed, num_generate, trigger_type, model_arch_type='mnist'):\n",
    "    \"\"\"\n",
    "    Given a random seed, generate attack specifications.\n",
    "    Each specification consists of a target label and a Trojan trigger.\n",
    "    Each Trojan trigger consists of a pattern, mask, and alpha (blending parameter)\n",
    "\n",
    "    NOTE: This is only meant to be used as a launching point for the Evasive Trojans Track, so non-MNIST code has been removed.\n",
    "    Training additional networks for other tracks is against the competition rules and will result in disqualification.\n",
    "\n",
    "    :param seed: the random seed\n",
    "    :param num_generate: the number of specifications to generate\n",
    "    :param trigger_type: the name of the trigger type; currently supports 'patch' or 'blended'\n",
    "    :returns: num_generate attack specifications for training a dataset of Trojaned networks\n",
    "    \"\"\"\n",
    "    rng = np.random.default_rng(seed)\n",
    "\n",
    "    # ================== GENERATE TARGET LABELS ================== #\n",
    "    num_classes = 10 if model_arch_type == 'mnist' else 43\n",
    "    # evenly distribute across classes, then randomly sample until reaching num_generate\n",
    "    target_labels = np.arange(num_classes)\n",
    "    rng.shuffle(target_labels)\n",
    "    target_labels = torch.from_numpy(target_labels).repeat(1 + num_generate // num_classes)[:num_generate].numpy()\n",
    "    rng.shuffle(target_labels)\n",
    "\n",
    "    # ================== GENERATE TRIGGERS ================== #\n",
    "    # ================== GET PARAMETERS DEPENDENT ON DATA SOURCE ================== #\n",
    "    min_trigger_len = 3\n",
    "    max_trigger_len = 10\n",
    "    side_len = 28 if model_arch_type == 'mnist' else 32\n",
    "    num_channels = 1\n",
    "    \n",
    "    # ================== GET PATTERNS, MASKS, ALPHA ================== #\n",
    "    if trigger_type == 'patch':\n",
    "        patterns = (rng.uniform(0, 1, size=[num_generate, num_channels, side_len, side_len]) > 0.5).astype(np.float32)\n",
    "        patterns = torch.from_numpy(patterns)\n",
    "\n",
    "        # patch attacks for the Evasive Trojans Track use a blending coefficient of 0.2...\n",
    "        # ...otherwise detection is already too difficult for MNTD.\n",
    "        # for other tracks, patch attacks use a blending coefficient of 1.0 (i.e., no blending)\n",
    "        alpha = 0.2 if model_arch_type == 'mnist' else 1\n",
    "\n",
    "        height = rng.choice(np.arange(min_trigger_len, max_trigger_len+1), size=num_generate, replace=True)\n",
    "        width = rng.choice(np.arange(min_trigger_len, max_trigger_len+1), size=num_generate, replace=True)\n",
    "\n",
    "        top_left = []\n",
    "        bottom_right = []\n",
    "        for i in range(num_generate):\n",
    "            current_top_left = [rng.choice(np.arange(0, side_len - height[i])), rng.choice(np.arange(0, side_len - width[i]))]\n",
    "            current_bottom_right = [current_top_left[0] + height[i], current_top_left[1] + width[i]]\n",
    "            top_left.append(current_top_left)\n",
    "            bottom_right.append(current_bottom_right)\n",
    "        top_left = np.stack(top_left)\n",
    "        bottom_right = np.stack(bottom_right)\n",
    "        \n",
    "        masks = []\n",
    "        for i in range(num_generate):\n",
    "            mask = utils.create_rectangular_mask(side_len, top_left[i], bottom_right[i])\n",
    "            masks.append(mask)\n",
    "        masks = torch.cat(masks, dim=0)\n",
    "    elif trigger_type == 'blended':\n",
    "        patterns = rng.uniform(0, 1, size=[num_generate, num_channels, side_len, side_len]).astype(np.float32)\n",
    "        patterns = torch.from_numpy(patterns)\n",
    "\n",
    "        alpha = 0.1\n",
    "\n",
    "        masks = torch.ones(num_generate, 1, side_len, side_len)\n",
    "        top_left = np.zeros([num_generate, 2], dtype=np.int64)\n",
    "        bottom_right = side_len * np.ones([num_generate, 2], dtype=np.int64)\n",
    "\n",
    "    triggers = []\n",
    "    for i in range(num_generate):\n",
    "        # include top_left and bottom_right for ease of reference (e.g., for use as a training signal)\n",
    "        # we include trigger_type for conditioning evasive Trojan attacks on the kind of trigger being used\n",
    "        triggers.append({'pattern': patterns[i], 'mask': masks[i], 'alpha': alpha, 'top_left': top_left[i], 'bottom_right': bottom_right[i],\n",
    "                         'trigger_type': trigger_type})\n",
    "\n",
    "    # ================== RETURN ATTACK SPECIFICATIONS ================== #\n",
    "    attack_specifications = []\n",
    "    for i in range(num_generate):\n",
    "        attack_specifications.append({'target_label': target_labels[i], 'trigger': triggers[i]})\n",
    "\n",
    "    return attack_specifications"
   ]
  },
  {
   "cell_type": "code",
   "execution_count": 30,
   "metadata": {},
   "outputs": [
    {
     "name": "stderr",
     "output_type": "stream",
     "text": [
      "100%|██████████| 1000/1000 [1:27:23<00:00,  5.24s/it] \n"
     ]
    }
   ],
   "source": [
    "from itertools import product\n",
    "\n",
    "dataset_path = '../../tdc_datasets'\n",
    "task = 'detection'\n",
    "train_test_val_case = ['train', 'test', 'val']\n",
    "MODEL_FILEDIRS = {c: os.path.join(dataset_path, task, c) for c in train_test_val_case}\n",
    "EXTRACTED_DIR = './extracted_features'\n",
    "TRIGGER_TYPE = ['patch', 'blended']\n",
    "shorten = {'SimpleViT':'vit', 'MNIST_Network':'mnist', 'WideResNet':'wrn'}\n",
    "BATCH_SIZE = 60\n",
    "test_val_case = ['test']\n",
    "mas = ['mnist', 'vit']\n",
    "LOSS_DICT = {f'{tvc}_{ma}': [] for tvc, ma in list(product(test_val_case, mas))}\n",
    "triggers = {ma: {trigger_type: generate_attack_specifications(seed=1, num_generate=100, \n",
    "                                                              trigger_type=trigger_type, model_arch_type=ma) \n",
    "                                                              for trigger_type in TRIGGER_TYPE}\n",
    "                                                              for ma in mas}\n",
    "for c in test_val_case:\n",
    "    model_filedir = MODEL_FILEDIRS[c]\n",
    "    total_models = len(os.listdir(model_filedir))\n",
    "    for model_num in tqdm(range(total_models)):\n",
    "        model_id = num_to_model_id(model_num)\n",
    "        model_filepath = os.path.join(model_filedir, model_id, 'model.pt')\n",
    "        model = torch.load(model_filepath).to(device)\n",
    "        model_arch = shorten[model._get_name()]\n",
    "        if model_arch != 'wrn':\n",
    "            model.eval()\n",
    "            \n",
    "            dataloader = torch.utils.data.DataLoader(train_sets_by_model_arch[model_arch], batch_size=BATCH_SIZE, shuffle=True)\n",
    "            \n",
    "            losses = []\n",
    "            for trigger_type in TRIGGER_TYPE:\n",
    "                for ind, (raw_input, _) in enumerate(dataloader):\n",
    "                    if ind >= 100:\n",
    "                        break\n",
    "                    input_with_trigger, label_with_trigger = utils.insert_trigger(raw_input, triggers[model_arch][trigger_type][ind])\n",
    "                    prediction = model(input_with_trigger.to(device))\n",
    "                    prediction_loss = F.cross_entropy(prediction, label_with_trigger.to(device)).item()\n",
    "                    losses.append(prediction_loss)\n",
    "            LOSS_DICT[f'{c}_{model_arch}'].append(losses)"
   ]
  },
  {
   "cell_type": "code",
   "execution_count": 31,
   "metadata": {},
   "outputs": [],
   "source": [
    "for k, v in LOSS_DICT.items():\n",
    "    np.save(os.path.join(EXTRACTED_DIR, f'{k}.npy'), np.stack(v, axis=0))"
   ]
  },
  {
   "cell_type": "code",
   "execution_count": 17,
   "metadata": {},
   "outputs": [
    {
     "name": "stderr",
     "output_type": "stream",
     "text": [
      "100%|██████████| 125/125 [23:16<00:00, 11.18s/it]\n",
      "100%|██████████| 125/125 [30:24<00:00, 14.60s/it]\n"
     ]
    }
   ],
   "source": [
    "BATCH_SIZE = 60\n",
    "LOSS_DICT = {}\n",
    "triggers = {trigger_type: generate_attack_specifications(seed=1, \n",
    "                                                         num_generate=6000//60, \n",
    "                                                         trigger_type=trigger_type,\n",
    "                                                         model_arch_type='vit') \n",
    "                                                         for trigger_type in TRIGGER_TYPE}\n",
    "for cot in clean_or_trojan:\n",
    "    for model_num in tqdm(range(250, 375)):\n",
    "        model_id = num_to_model_id(model_num)\n",
    "        model_filepath = os.path.join(MODEL_FILEDIR, cot, model_id, 'model.pt')\n",
    "        model = torch.load(model_filepath).to(device)\n",
    "        model.eval()\n",
    "\n",
    "        gtsrb_train_dataloader = torch.utils.data.DataLoader(gtsrb_train, batch_size=BATCH_SIZE, shuffle=True)\n",
    "\n",
    "        losses_per_batch = {trigger_type:[] for trigger_type in TRIGGER_TYPE}\n",
    "        for ind, (raw_input, _) in enumerate(gtsrb_train_dataloader):\n",
    "            if ind >= 100:\n",
    "                break\n",
    "            for trigger_type in TRIGGER_TYPE:\n",
    "                input_with_trigger, label_with_trigger = utils.insert_trigger(raw_input, triggers[trigger_type][ind])\n",
    "                prediction = model(input_with_trigger.to(device))\n",
    "                prediction_loss = F.cross_entropy(prediction, label_with_trigger.to(device)).item()\n",
    "                losses_per_batch[trigger_type].append(prediction_loss)\n",
    "        \n",
    "        LOSS_DICT[f'{model_id}_{cot}'] = losses_per_batch"
   ]
  },
  {
   "cell_type": "code",
   "execution_count": 18,
   "metadata": {},
   "outputs": [],
   "source": [
    "with open(os.path.join(EXTRACTED_DIR, 'loss_vit.json'), 'w') as outfile:\n",
    "    json.dump(LOSS_DICT, outfile)"
   ]
  },
  {
   "cell_type": "code",
   "execution_count": 5,
   "metadata": {},
   "outputs": [],
   "source": [
    "LOSS_DICT = {'clean': CLEAN_LOSS_DICT, 'trojan': TROJAN_LOSS_DICT}"
   ]
  },
  {
   "cell_type": "code",
   "execution_count": 22,
   "metadata": {},
   "outputs": [],
   "source": [
    "X, y = [], []\n",
    "for cot in clean_or_trojan:\n",
    "    for model_num in range(250, 375):\n",
    "        model_id = num_to_model_id(model_num)\n",
    "        key = f'{model_id}_{cot}'\n",
    "        # loss_dict_per_model = LOSS_DICT[cot][key]\n",
    "        loss_dict_per_model = LOSS_DICT[key]\n",
    "        per_model = loss_dict_per_model['patch'] + loss_dict_per_model['blended']\n",
    "        X.append(per_model)\n",
    "        y.append(int(cot=='trojan'))\n",
    "X = np.stack(X, axis=0)"
   ]
  },
  {
   "cell_type": "code",
   "execution_count": 23,
   "metadata": {},
   "outputs": [],
   "source": [
    "np.save(os.path.join(EXTRACTED_DIR, 'X_loss_feature_vit.npy'), X)\n",
    "np.save(os.path.join(EXTRACTED_DIR, 'y_loss_feature_vit.npy'), y)"
   ]
  },
  {
   "cell_type": "code",
   "execution_count": 25,
   "metadata": {},
   "outputs": [],
   "source": [
    "from sklearn.metrics import log_loss\n",
    "from sklearn.ensemble import GradientBoostingClassifier\n",
    "from sklearn.model_selection import train_test_split\n",
    "from sklearn.model_selection import GridSearchCV\n",
    "\n",
    "def bootstrap_performance(X, y, clf, n=10, test_size=.2, eps=.01):\n",
    "    all_cross_entropy, all_accuracy = [], []\n",
    "    for i in tqdm(range(n)):\n",
    "        X_train, X_test, y_train, y_test = train_test_split(X, y, test_size=test_size, random_state=i)\n",
    "        \n",
    "        clf.set_params(random_state=i)            \n",
    "        clf.fit(X_train, y_train)\n",
    "        \n",
    "        all_cross_entropy.append(log_loss(y_test, clf.predict_proba(X_test), eps=eps))\n",
    "        all_accuracy.append(clf.score(X_test, y_test))\n",
    "    return all_cross_entropy, all_accuracy"
   ]
  },
  {
   "cell_type": "code",
   "execution_count": 26,
   "metadata": {},
   "outputs": [
    {
     "name": "stderr",
     "output_type": "stream",
     "text": [
      "100%|██████████| 50/50 [08:23<00:00, 10.07s/it]\n"
     ]
    },
    {
     "data": {
      "text/plain": [
       "(0.6399090199852165, 0.6552000000000001)"
      ]
     },
     "execution_count": 26,
     "metadata": {},
     "output_type": "execute_result"
    }
   ],
   "source": [
    "clf = GradientBoostingClassifier(learning_rate=.006, n_estimators=750, max_depth=3, min_samples_leaf=22, min_samples_split=2)\n",
    "cen, acc = bootstrap_performance(X, y, clf, n=50)\n",
    "np.mean(cen), np.mean(acc)"
   ]
  },
  {
   "cell_type": "code",
   "execution_count": null,
   "metadata": {},
   "outputs": [],
   "source": [
    "clf = GradientBoostingClassifier(learning_rate=.006, n_estimators=750, max_depth=3, min_samples_leaf=22, min_samples_split=2)\n",
    "param = {'max_features': range(2, 202, 20), 'min_samples_leaf':range(2, 25, 2), 'min_samples_split': range(2, 25, 2)}   #\n",
    "gsearch = GridSearchCV(estimator=clf, param_grid=param, scoring=['neg_log_loss', 'accuracy'], n_jobs=10, cv=5, refit=False);\n",
    "gsearch.fit(X, y);"
   ]
  },
  {
   "cell_type": "code",
   "execution_count": null,
   "metadata": {},
   "outputs": [],
   "source": [
    "result = pd.DataFrame(gsearch.cv_results_).sort_values(by=['rank_test_accuracy', 'rank_test_neg_log_loss'])\n",
    "result.to_csv('/scratch/jialin/trojan_detection/projects/tdc-starter-kit/detection/extracted_features/gsearch_result.csv')"
   ]
  },
  {
   "cell_type": "markdown",
   "metadata": {},
   "source": [
    "## Gradient Analysis"
   ]
  },
  {
   "cell_type": "code",
   "execution_count": 18,
   "metadata": {},
   "outputs": [],
   "source": [
    "def extract_rand_grads(model, batch_size, loss_fn):\n",
    "    model_class = model._get_name()\n",
    "    cha, res, _, _, num_of_classes = model_dict[model_class]\n",
    "    model = model.to(device)\n",
    "    model.train()\n",
    "    data = torch.rand(batch_size, cha, res, res).to(device)\n",
    "    data.requires_grad = True\n",
    "\n",
    "    grads = []\n",
    "    pred = model(data)\n",
    "    \n",
    "    for label in range(num_of_classes):\n",
    "        loss = loss_fn(pred, (torch.zeros(batch_size).to(device) + label).long())\n",
    "        loss.backward(retain_graph=True)\n",
    "        grads.append(torch.mean(data.grad, dim=0).detach().cpu())\n",
    "        del loss\n",
    "    return torch.cat(grads).numpy()\n"
   ]
  },
  {
   "cell_type": "code",
   "execution_count": 36,
   "metadata": {},
   "outputs": [],
   "source": [
    "def extract_grad_basic_info(grads, axis=-1):\n",
    "    param = []\n",
    "    param += np.amax(grads, axis=axis).flatten().tolist()\n",
    "    param += np.mean(grads, axis=axis).flatten().tolist()\n",
    "    sub = np.mean(grads, axis=axis) - np.median(grads, axis=axis)\n",
    "    param += sub.flatten().tolist()\n",
    "    param += np.median(grads, axis=axis).flatten().tolist()\n",
    "    param += np.sum(grads, axis=axis).flatten().tolist()\n",
    "    param += np.linalg.norm(grads, axis=axis).flatten().tolist()\n",
    "    return param"
   ]
  },
  {
   "cell_type": "code",
   "execution_count": 50,
   "metadata": {},
   "outputs": [],
   "source": [
    "from sklearn.decomposition import PCA\n",
    "\n",
    "def extract_flattened_pca(grads):\n",
    "    pca = PCA()\n",
    "    grads_flattened = grads.reshape((grads.shape[0], -1))\n",
    "    pca_grad = pca.fit_transform(grads_flattened)\n",
    "    return pca_grad.flatten()"
   ]
  },
  {
   "cell_type": "code",
   "execution_count": 51,
   "metadata": {},
   "outputs": [
    {
     "name": "stderr",
     "output_type": "stream",
     "text": [
      "100%|██████████| 125/125 [00:45<00:00,  2.76it/s]\n"
     ]
    }
   ],
   "source": [
    "from torch.utils.data import DataLoader\n",
    "from torch.nn import CrossEntropyLoss\n",
    "\n",
    "# dataloader = DataLoader(mnist_ds, batch_size=100, shuffle=True)\n",
    "# X, y = next(iter(dataloader))\n",
    "\n",
    "clean_model_dir = '/scratch/jialin/trojan_detection/projects/tdc_datasets/detection/train/clean/'\n",
    "trojan_model_dir = '/scratch/jialin/trojan_detection/projects/tdc_datasets/detection/train/trojan/'\n",
    "\n",
    "clean_params, trojan_params = [], []\n",
    "for num in tqdm(range(375, 500)):\n",
    "    clean_model = torch.load(os.path.join(clean_model_dir, num_to_model_id(num), 'model.pt'))\n",
    "    trojan_model = torch.load(os.path.join(trojan_model_dir, num_to_model_id(num), 'model.pt'))\n",
    "    clean_grads = extract_rand_grads(clean_model, 3000, CrossEntropyLoss())\n",
    "    trojan_grads = extract_rand_grads(trojan_model, 3000, CrossEntropyLoss())\n",
    "    # axis = tuple([i for i in range(1, len(clean_grads.shape))])\n",
    "    # clean_basic_info = extract_grad_basic_info(clean_grads, axis=axis)\n",
    "    # trojan_basic_info = extract_grad_basic_info(trojan_grads, axis=axis)\n",
    "    # clean_basic_info = clean_grads.flatten()\n",
    "    # trojan_basic_info = trojan_grads.flatten()\n",
    "    clean_basic_info = extract_flattened_pca(clean_grads)\n",
    "    trojan_basic_info = extract_flattened_pca(trojan_grads)\n",
    "    clean_params.append(clean_basic_info)\n",
    "    trojan_params.append(trojan_basic_info)"
   ]
  },
  {
   "cell_type": "code",
   "execution_count": 52,
   "metadata": {},
   "outputs": [
    {
     "data": {
      "text/plain": [
       "(250, 100)"
      ]
     },
     "execution_count": 52,
     "metadata": {},
     "output_type": "execute_result"
    }
   ],
   "source": [
    "all_grad_params = np.concatenate([clean_params, trojan_params], axis=0)\n",
    "all_grad_params.shape"
   ]
  },
  {
   "cell_type": "code",
   "execution_count": 53,
   "metadata": {},
   "outputs": [
    {
     "data": {
      "text/plain": [
       "(250, 101)"
      ]
     },
     "execution_count": 53,
     "metadata": {},
     "output_type": "execute_result"
    }
   ],
   "source": [
    "grad_param_label = np.asarray([False]*125+[True]*125).reshape((250, 1))\n",
    "grad_params = np.concatenate([all_grad_params, grad_param_label], axis=1)\n",
    "grad_params.shape"
   ]
  },
  {
   "cell_type": "markdown",
   "metadata": {},
   "source": [
    "## Titration Analysis"
   ]
  },
  {
   "cell_type": "code",
   "execution_count": 6,
   "metadata": {},
   "outputs": [],
   "source": [
    "from random import seed\n",
    "import torch\n",
    "from torch.utils.data import DataLoader\n",
    "\n",
    "def extract_t_score(model, data, noisy_data, labels, gamma):  #look at the ones that only change after adding the noise\n",
    "    with torch.no_grad():\n",
    "        model = model.to(device)\n",
    "        data = data.to(device)\n",
    "        noisy_data = noisy_data.to(device)\n",
    "        output = model(data).softmax(dim=-1).max(dim=-1)\n",
    "        noisy_output = model(noisy_data).softmax(dim=-1).max(dim=-1)\n",
    "    del model, noisy_data, data\n",
    "\n",
    "    pred = output.indices.cpu().detach()\n",
    "    noisy_max_vals = noisy_output.values.cpu().detach()\n",
    "    noisy_pred = noisy_output.indices.cpu().detach()\n",
    "    del output, noisy_output\n",
    "\n",
    "    changed_idx = torch.nonzero(noisy_pred != pred, as_tuple=True)\n",
    "    diff_idx = torch.nonzero(noisy_pred[changed_idx] != labels[changed_idx], as_tuple=True)\n",
    "    high_conf_cnt = torch.count_nonzero(noisy_max_vals[changed_idx][diff_idx] > gamma).numpy()\n",
    "    total_diff_cnt = diff_idx[0].shape[0]\n",
    "    return high_conf_cnt/total_diff_cnt if total_diff_cnt != 0 else 0\n",
    "\n",
    "\n",
    "def extract_t_scores(model, num_of_runs=30, num_of_dtpt=5000, t_levels=range(0,15), gamma=.99):\n",
    "    model_class = model._get_name()\n",
    "    cha, res, _, ds, _ = model_dict[model_class]\n",
    "    dataloader = DataLoader(ds, batch_size=num_of_dtpt, shuffle=True)\n",
    "    t_scores = []\n",
    "    for j in range(num_of_runs):\n",
    "        t_score = []\n",
    "        for i, t_level in enumerate(t_levels):\n",
    "            torch.manual_seed((j+1)*(i+1))\n",
    "            try:\n",
    "                raw_data, labels = next(iter(dataloader))\n",
    "            except:\n",
    "                dataloader = DataLoader(ds, batch_size=num_of_dtpt, shuffle=True)\n",
    "                raw_data, labels = next(iter(dataloader))\n",
    "            # noise = torch.normal(0, 1, size=raw_data.shape)\n",
    "            noise = torch.rand(num_of_dtpt, cha, res, res)\n",
    "            noisy_data = raw_data + noise*t_level\n",
    "            # min_data = noisy_data.min(dim=3, keepdim=True).values.min(dim=2, keepdim=True).values.min(dim=1, keepdim=True).values\n",
    "            # max_data = noisy_data.max(dim=3, keepdim=True).values.max(dim=2, keepdim=True).values.max(dim=1, keepdim=True).values\n",
    "            # noisy_data = (noisy_data - min_data)/(max_data - min_data)\n",
    "            noisy_data = torch.clamp(noisy_data, 0, 1)\n",
    "            t_score.append(extract_t_score(model, raw_data, noisy_data, labels, gamma))\n",
    "        t_scores.append(t_score)\n",
    "    return np.mean(t_scores, axis=0)    "
   ]
  },
  {
   "cell_type": "code",
   "execution_count": 30,
   "metadata": {},
   "outputs": [
    {
     "name": "stderr",
     "output_type": "stream",
     "text": [
      "100%|██████████| 125/125 [3:23:00<00:00, 97.44s/it] \n"
     ]
    }
   ],
   "source": [
    "clean_model_dir = '/scratch/jialin/trojan_detection/projects/tdc_datasets/detection/train/clean/'\n",
    "trojan_model_dir = '/scratch/jialin/trojan_detection/projects/tdc_datasets/detection/train/trojan/'\n",
    "t_levels = np.arange(0, 1.01, .05)\n",
    "# t_levels = [0, .15, .25, .35, .5, .75, .85, 1, 3, 5, 7, 9, 11, 13, 15]\n",
    "\n",
    "t_scores_clean, t_scores_trojan = [], []\n",
    "for num in tqdm(range(250, 375)):\n",
    "    with torch.no_grad():\n",
    "        clean_model = torch.load(os.path.join(clean_model_dir, num_to_model_id(num), 'model.pt'))\n",
    "        trojan_model = torch.load(os.path.join(trojan_model_dir, num_to_model_id(num), 'model.pt'))\n",
    "    t_scores_clean.append(extract_t_scores(clean_model, num_of_runs=1, t_levels = t_levels, gamma=.98))\n",
    "    t_scores_trojan.append(extract_t_scores(trojan_model, num_of_runs=1, t_levels = t_levels, gamma=.98))"
   ]
  },
  {
   "cell_type": "code",
   "execution_count": 31,
   "metadata": {},
   "outputs": [
    {
     "data": {
      "text/plain": [
       "(250, 21)"
      ]
     },
     "execution_count": 31,
     "metadata": {},
     "output_type": "execute_result"
    }
   ],
   "source": [
    "all_t_scores = np.concatenate([t_scores_clean, t_scores_trojan], axis=0)\n",
    "all_t_scores.shape"
   ]
  },
  {
   "cell_type": "code",
   "execution_count": 32,
   "metadata": {},
   "outputs": [],
   "source": [
    "t_scores_label = np.asarray([False]*125+[True]*125).reshape((250, 1))\n",
    "t_scores = np.concatenate([all_t_scores, t_scores_label], axis=1)\n",
    "t_scores.shape\n",
    "np.save('/scratch/jialin/trojan_detection/projects/tdc-starter-kit/detection/extracted_features/vit_t_scores_gamma=98.npy', t_scores)"
   ]
  },
  {
   "cell_type": "code",
   "execution_count": 33,
   "metadata": {},
   "outputs": [
    {
     "data": {
      "image/png": "[encoded data removed]",
      "text/plain": [
       "<Figure size 2000x800 with 1 Axes>"
      ]
     },
     "metadata": {},
     "output_type": "display_data"
    }
   ],
   "source": [
    "df = pd.DataFrame()\n",
    "df['t_level'] = [t for t_level in t_levels for t in [str(round(t_level, 2))]*250]\n",
    "df['t_score'] = [t for i in range(len(t_levels)) for t in all_t_scores[:, i].tolist()]\n",
    "df['trojan'] = ([False]*125+[True]*125)*len(t_levels)\n",
    "\n",
    "fig, ax = plt.subplots(figsize=(20,8))\n",
    "sns.boxplot(data=df, x='t_level', y='t_score', hue='trojan');"
   ]
  },
  {
   "cell_type": "code",
   "execution_count": 34,
   "metadata": {},
   "outputs": [
    {
     "data": {
      "image/png": "[encoded data removed]",
      "text/plain": [
       "<Figure size 2000x800 with 1 Axes>"
      ]
     },
     "metadata": {},
     "output_type": "display_data"
    }
   ],
   "source": [
    "diff_t_scores = np.concatenate([np.diff(all_t_scores), t_scores_label], axis=1)\n",
    "diff_t_levels = t_levels[1:]\n",
    "diff_df = pd.DataFrame()\n",
    "diff_df['t_level'] = [t for t_level in diff_t_levels for t in [str(round(t_level, 2))]*250]\n",
    "diff_df['t_score'] = [t for i in range(len(diff_t_levels)) for t in diff_t_scores[:, i].tolist()]\n",
    "diff_df['trojan'] = ([False]*125+[True]*125)*len(diff_t_levels)\n",
    "\n",
    "fig, ax = plt.subplots(figsize=(20,8))\n",
    "sns.boxplot(data=diff_df, x='t_level', y='t_score', hue='trojan');"
   ]
  },
  {
   "cell_type": "code",
   "execution_count": 35,
   "metadata": {},
   "outputs": [
    {
     "data": {
      "text/plain": [
       "(250, 42)"
      ]
     },
     "execution_count": 35,
     "metadata": {},
     "output_type": "execute_result"
    }
   ],
   "source": [
    "t_score_with_diff = np.concatenate([all_t_scores, diff_t_scores], axis=1)\n",
    "t_score_with_diff.shape"
   ]
  },
  {
   "cell_type": "markdown",
   "metadata": {},
   "source": [
    "## Feature Extraction"
   ]
  },
  {
   "cell_type": "markdown",
   "metadata": {},
   "source": [
    "#### Aggregated Weight"
   ]
  },
  {
   "cell_type": "code",
   "execution_count": 5,
   "metadata": {},
   "outputs": [],
   "source": [
    "norm_dict = {'MNIST_Network':['1', '4', '7', '11'], 'SimpleViT':['norm'], 'WideResNet':['bn']}"
   ]
  },
  {
   "cell_type": "code",
   "execution_count": 3,
   "metadata": {},
   "outputs": [],
   "source": [
    "def extract_weight(model, extract_batchnorm=False):\n",
    "    params = []\n",
    "    for name, param in model.named_parameters():\n",
    "        # if 'weight' in name:\n",
    "        if extract_batchnorm:\n",
    "            norm_names = norm_dict[model._get_name()]\n",
    "            if any(n in name for n in norm_names):\n",
    "                params.append(torch.abs(torch.mean(param)).detach().numpy())\n",
    "        if not extract_batchnorm:\n",
    "            # if len(param.shape) >= 3:\n",
    "            if '3d' in name:\n",
    "                axis = tuple(np.arange(len(param.shape)-1).tolist())\n",
    "                params += torch.amax(param, dim=axis).flatten().tolist()\n",
    "                params += torch.mean(param, dim=axis).flatten().tolist()\n",
    "                sub = torch.mean(param, dim=axis).flatten() - torch.median(torch.flatten(param, end_dim=-2), dim=0).values.flatten()\n",
    "                params += sub.tolist()\n",
    "                params += torch.median(torch.flatten(param, end_dim=-2), dim=0).values.flatten().tolist()\n",
    "                params += torch.sum(param, dim=axis).flatten().tolist()\n",
    "                params += (torch.linalg.norm(param, ord='fro', dim=axis).flatten()**2/torch.linalg.norm(param, ord=2, dim=axis).flatten()**2).tolist()\n",
    "            else:\n",
    "                params.append(param.max().tolist())\n",
    "                params.append(param.mean().tolist())\n",
    "                sub = param.mean() - torch.median(param)\n",
    "                params.append(sub.tolist())\n",
    "                params.append(torch.median(param).tolist())\n",
    "                params.append(param.sum().tolist())\n",
    "                params.append((torch.linalg.norm(param.reshape(param.shape[0], -1), ord='fro')**2/torch.linalg.norm(param.reshape(param.shape[0], -1), ord=2)**2).tolist())\n",
    "    return np.asarray(params)"
   ]
  },
  {
   "cell_type": "markdown",
   "metadata": {},
   "source": [
    "#### Eigen Value"
   ]
  },
  {
   "cell_type": "code",
   "execution_count": 4,
   "metadata": {},
   "outputs": [],
   "source": [
    "def extract_eigen(model):\n",
    "    params = []\n",
    "    num_param_per_layer = []\n",
    "    min_shape = 1 if model._get_name() in ['SimpleViT', 'MNIST_Network'] else 2\n",
    "    for param in model.parameters():\n",
    "        if len(param.shape) > min_shape:\n",
    "            reshaped_param = param.reshape(param.shape[0], -1)\n",
    "            singular_values = torch.linalg.svd(reshaped_param, False).S\n",
    "            squared_singular_values = torch.square(singular_values)\n",
    "            ssv = squared_singular_values.tolist()\n",
    "            params += ssv\n",
    "            num_param_per_layer.append(len(ssv))\n",
    "    return np.asarray(params), np.asarray(num_param_per_layer)"
   ]
  },
  {
   "cell_type": "markdown",
   "metadata": {},
   "source": [
    "#### Directly load without saving locally"
   ]
  },
  {
   "cell_type": "code",
   "execution_count": 12,
   "metadata": {},
   "outputs": [],
   "source": [
    "from itertools import product\n",
    "\n",
    "def load_model_params(all_features, clean_or_trojan='clean', extraction_method=extract_weight, extract_batchnorm=False, model_filedir=MODEL_FILEDIR, add_label=True):\n",
    "    for num in tqdm(range(NUM_MODEL)):\n",
    "        model_filepath = os.path.join(model_filedir, clean_or_trojan, num_to_model_id(num), 'model.pt')\n",
    "        with torch.no_grad():\n",
    "            model = torch.load(model_filepath)\n",
    "        model_class = model._get_name()\n",
    "        if extraction_method == extract_eigen:\n",
    "            params = extraction_method(model)\n",
    "            eigen, layer = params[0], params[1]\n",
    "            if add_label:\n",
    "                eigen = np.append(eigen, [clean_or_trojan != 'clean'], axis=0)\n",
    "            all_features[model_class+'_'+clean_or_trojan+'_eigen'].append(eigen)\n",
    "            all_features[model_class+'_'+clean_or_trojan+'_layer'].append(layer)\n",
    "        else: \n",
    "            params = extraction_method(model, extract_batchnorm=extract_batchnorm)               \n",
    "            if add_label:\n",
    "                params = np.append(params, [clean_or_trojan != 'clean'], axis=0)\n",
    "            all_features[model_class+'_'+clean_or_trojan].append(params)\n",
    "    for k, v in all_features.items():\n",
    "        if len(v) != 0:\n",
    "            all_features[k] = np.stack(v, axis=0)\n"
   ]
  },
  {
   "cell_type": "code",
   "execution_count": 41,
   "metadata": {},
   "outputs": [
    {
     "name": "stderr",
     "output_type": "stream",
     "text": [
      "100%|██████████| 500/500 [02:37<00:00,  3.17it/s]\n",
      "100%|██████████| 500/500 [02:35<00:00,  3.22it/s]\n"
     ]
    }
   ],
   "source": [
    "weights = {mc+'_'+cot:[] for mc, cot in list(product(model_classes, clean_or_trojan))}\n",
    "\n",
    "load_model_params(weights)\n",
    "load_model_params(weights, 'trojan')"
   ]
  },
  {
   "cell_type": "code",
   "execution_count": 18,
   "metadata": {},
   "outputs": [
    {
     "name": "stderr",
     "output_type": "stream",
     "text": [
      "100%|██████████| 500/500 [2:13:14<00:00, 15.99s/it]  \n",
      "100%|██████████| 500/500 [2:10:59<00:00, 15.72s/it]  \n"
     ]
    }
   ],
   "source": [
    "eigens = {mc+'_'+cot+'_'+eol:[] for mc, cot, eol in list(product(model_classes, clean_or_trojan, ['eigen', 'layer']))}\n",
    "\n",
    "load_model_params(eigens, clean_or_trojan='clean', extraction_method=extract_eigen)\n",
    "load_model_params(eigens, clean_or_trojan='trojan', extraction_method=extract_eigen)"
   ]
  },
  {
   "cell_type": "code",
   "execution_count": 13,
   "metadata": {},
   "outputs": [
    {
     "name": "stderr",
     "output_type": "stream",
     "text": [
      "100%|██████████| 500/500 [00:11<00:00, 42.87it/s] \n",
      "100%|██████████| 500/500 [00:11<00:00, 43.32it/s] \n"
     ]
    }
   ],
   "source": [
    "batchnorm_weights = {mc+'_'+cot:[] for mc, cot in list(product(model_classes, clean_or_trojan))}\n",
    "load_model_params(batchnorm_weights, clean_or_trojan='clean', extraction_method=extract_weight, extract_batchnorm=True)\n",
    "load_model_params(batchnorm_weights, clean_or_trojan='trojan', extraction_method=extract_weight, extract_batchnorm=True)"
   ]
  },
  {
   "cell_type": "markdown",
   "metadata": {},
   "source": [
    "#### To save and load the params from directory"
   ]
  },
  {
   "cell_type": "code",
   "execution_count": null,
   "metadata": {},
   "outputs": [],
   "source": [
    "from itertools import product\n",
    "\n",
    "def save_model_params_npy(clean_or_trojan='clean', extraction_method=extract_weight, model_filedir=MODEL_FILEDIR, extracted_dir=EXTRACTED_DIR):\n",
    "    for num in tqdm(range(NUM_MODEL)):\n",
    "        model_filepath = os.path.join(model_filedir, clean_or_trojan, num_to_model_id(num), 'model.pt')\n",
    "        with torch.no_grad():\n",
    "            model = torch.load(model_filepath)\n",
    "        model_class = model._get_name()\n",
    "        params = extraction_method(model)\n",
    "        potential_dir = os.path.join(extracted_dir, clean_or_trojan, model_class)\n",
    "        if os.path.exists(potential_dir):\n",
    "            np.save(os.path.join(potential_dir, f'{num_to_model_id(num)}.npy'), params)\n",
    "        else:\n",
    "            os.mkdir(potential_dir)\n",
    "            np.save(os.path.join(potential_dir, f'{num_to_model_id(num)}.npy'), params)\n",
    "\n",
    "# save_model_params_npy()\n",
    "# save_model_params_npy('trojan')\n",
    "\n",
    "\n",
    "def load_all_model_params(all_features, extracted_dir=EXTRACTED_DIR, add_label=True):\n",
    "    for key in all_features.keys():\n",
    "        c_o_t = key.split('_')[-1]\n",
    "        model_class = key.replace(c_o_t, '')\n",
    "        params_dir = os.path.join(extracted_dir, c_o_t, model_class)\n",
    "        features = []\n",
    "        for param_dir in os.listdir(params_dir):\n",
    "            model_param = np.load(os.path.join(params_dir, param_dir))\n",
    "            features.append(model_param)\n",
    "        features = np.stack(features, axis=0)\n",
    "        if add_label:\n",
    "            label = c_o_t != 'clean'\n",
    "            labels = np.asarray([label] * features.shape[0]).reshape((features.shape[0], 1))\n",
    "            features = np.append(features, labels, axis=1)\n",
    "        all_features[key] = features\n",
    "    return all_features"
   ]
  },
  {
   "cell_type": "code",
   "execution_count": 42,
   "metadata": {},
   "outputs": [],
   "source": [
    "mnist_weight = np.concatenate((weights['MNIST_Network_clean'], weights['MNIST_Network_trojan']), axis=0)\n",
    "vit_weight = np.concatenate((weights['SimpleViT_clean'], weights['SimpleViT_trojan']), axis=0)\n",
    "wrn_weight = np.concatenate((weights['WideResNet_clean'], weights['WideResNet_trojan']), axis=0)"
   ]
  },
  {
   "cell_type": "code",
   "execution_count": 10,
   "metadata": {},
   "outputs": [
    {
     "data": {
      "text/plain": [
       "((250, 109), (250, 397), (500, 697))"
      ]
     },
     "execution_count": 10,
     "metadata": {},
     "output_type": "execute_result"
    }
   ],
   "source": [
    "mnist_weight.shape, vit_weight.shape, wrn_weight.shape"
   ]
  },
  {
   "cell_type": "code",
   "execution_count": 43,
   "metadata": {},
   "outputs": [],
   "source": [
    "np.save('/scratch/jialin/trojan_detection/projects/tdc-starter-kit/detection/extracted_features/vit_weight.npy', vit_weight)\n",
    "np.save('/scratch/jialin/trojan_detection/projects/tdc-starter-kit/detection/extracted_features/mnist_weight.npy', mnist_weight)\n",
    "np.save('/scratch/jialin/trojan_detection/projects/tdc-starter-kit/detection/extracted_features/wrn_weight.npy', wrn_weight)"
   ]
  },
  {
   "cell_type": "code",
   "execution_count": 19,
   "metadata": {},
   "outputs": [],
   "source": [
    "mnist_eigen = np.concatenate((eigens['MNIST_Network_clean_eigen'], eigens['MNIST_Network_trojan_eigen']), axis=0)\n",
    "vit_eigen = np.concatenate((eigens['SimpleViT_clean_eigen'], eigens['SimpleViT_trojan_eigen']), axis=0)\n",
    "wrn_eigen = np.concatenate((eigens['WideResNet_clean_eigen'], eigens['WideResNet_trojan_eigen']), axis=0)\n",
    "mnist_eigen_layer = np.concatenate((eigens['MNIST_Network_clean_layer'], eigens['MNIST_Network_trojan_layer']), axis=0)\n",
    "vit_eigen_layer = np.concatenate((eigens['SimpleViT_clean_layer'], eigens['SimpleViT_trojan_layer']), axis=0)\n",
    "wrn_eigen_layer = np.concatenate((eigens['WideResNet_clean_layer'], eigens['WideResNet_trojan_layer']), axis=0)\n",
    "np.save('/scratch/jialin/trojan_detection/projects/tdc-starter-kit/detection/extracted_features/vit_eigen.npy', vit_eigen)\n",
    "np.save('/scratch/jialin/trojan_detection/projects/tdc-starter-kit/detection/extracted_features/mnist_eigen.npy', mnist_eigen)\n",
    "np.save('/scratch/jialin/trojan_detection/projects/tdc-starter-kit/detection/extracted_features/wrn_eigen.npy', wrn_eigen)\n",
    "np.save('/scratch/jialin/trojan_detection/projects/tdc-starter-kit/detection/extracted_features/vit_eigen_layer.npy', vit_eigen_layer)\n",
    "np.save('/scratch/jialin/trojan_detection/projects/tdc-starter-kit/detection/extracted_features/mnist_eigen_layer.npy', mnist_eigen_layer)\n",
    "np.save('/scratch/jialin/trojan_detection/projects/tdc-starter-kit/detection/extracted_features/wrn_eigen_layer.npy', wrn_eigen_layer)"
   ]
  },
  {
   "cell_type": "code",
   "execution_count": 20,
   "metadata": {},
   "outputs": [
    {
     "data": {
      "text/plain": [
       "((250, 212), (250, 3164), (500, 2817), (250, 5), (250, 26), (500, 40))"
      ]
     },
     "execution_count": 20,
     "metadata": {},
     "output_type": "execute_result"
    }
   ],
   "source": [
    "mnist_eigen.shape, vit_eigen.shape, wrn_eigen.shape, mnist_eigen_layer.shape, vit_eigen_layer.shape, wrn_eigen_layer.shape"
   ]
  },
  {
   "cell_type": "code",
   "execution_count": 14,
   "metadata": {},
   "outputs": [],
   "source": [
    "mnist_bn = np.concatenate((batchnorm_weights['MNIST_Network_clean'], batchnorm_weights['MNIST_Network_trojan']), axis=0)\n",
    "vit_bn = np.concatenate((batchnorm_weights['SimpleViT_clean'], batchnorm_weights['SimpleViT_trojan']), axis=0)\n",
    "wrn_bn = np.concatenate((batchnorm_weights['WideResNet_clean'], batchnorm_weights['WideResNet_trojan']), axis=0)\n",
    "np.save('/scratch/jialin/trojan_detection/projects/tdc-starter-kit/detection/extracted_features/vit_bn.npy', vit_bn)\n",
    "np.save('/scratch/jialin/trojan_detection/projects/tdc-starter-kit/detection/extracted_features/mnist_bn.npy', mnist_bn)\n",
    "np.save('/scratch/jialin/trojan_detection/projects/tdc-starter-kit/detection/extracted_features/wrn_bn.npy', wrn_bn)"
   ]
  },
  {
   "cell_type": "code",
   "execution_count": 15,
   "metadata": {},
   "outputs": [
    {
     "data": {
      "text/plain": [
       "((250, 13), (250, 13), (500, 75))"
      ]
     },
     "execution_count": 15,
     "metadata": {},
     "output_type": "execute_result"
    }
   ],
   "source": [
    "mnist_bn.shape, vit_bn.shape, wrn_bn.shape"
   ]
  },
  {
   "cell_type": "code",
   "execution_count": 49,
   "metadata": {},
   "outputs": [],
   "source": [
    "mnist = np.concatenate((mnist_weight[:, :-1], mnist_eigen), axis=1)\n",
    "vit = np.concatenate((vit_weight[:, :-1], vit_eigen), axis=1)\n",
    "wrn = np.concatenate((wrn_weight[:, :-1], wrn_eigen), axis=1)"
   ]
  },
  {
   "cell_type": "code",
   "execution_count": 41,
   "metadata": {},
   "outputs": [
    {
     "data": {
      "text/plain": [
       "((250, 91), (250, 212), (250, 331), (250, 3164), (500, 581), (500, 2817))"
      ]
     },
     "execution_count": 41,
     "metadata": {},
     "output_type": "execute_result"
    }
   ],
   "source": [
    "mnist_weight.shape, mnist_eigen.shape, vit_weight.shape, vit_eigen.shape, wrn_weight.shape, wrn_eigen.shape"
   ]
  },
  {
   "cell_type": "markdown",
   "metadata": {},
   "source": [
    "### Eigen Value Visualization"
   ]
  },
  {
   "cell_type": "code",
   "execution_count": 7,
   "metadata": {},
   "outputs": [],
   "source": [
    "EXTRACTED_FILEDIR = '/scratch/jialin/trojan_detection/projects/tdc-starter-kit/detection/extracted_features/'\n",
    "model_arch = ['mnist', 'vit', 'wrn']\n",
    "layer_data = {ma: np.cumsum(np.load(os.path.join(EXTRACTED_FILEDIR, f'{ma}_eigen_layer.npy')), axis=1)[0] for ma in model_arch}\n",
    "eigen_data = {ma: np.load(os.path.join(EXTRACTED_FILEDIR, f'{ma}_eigen.npy')) for ma in model_arch}\n",
    "split_eigen_data = {ma: np.split(eigen_data[ma], layer_data[ma], axis=1) for ma in model_arch}"
   ]
  },
  {
   "cell_type": "code",
   "execution_count": 8,
   "metadata": {},
   "outputs": [],
   "source": [
    "optimal_layers = {'mnist':[2, 3], 'vit':[0, 1, 2], 'wrn':[4, 15, 37, 39]}\n",
    "optimal_eigen = {ma: [split_eigen_data[ma][num_layer] for num_layer in optimal_layers[ma]] for ma in model_arch}"
   ]
  },
  {
   "cell_type": "code",
   "execution_count": 25,
   "metadata": {},
   "outputs": [
    {
     "data": {
      "text/plain": [
       "array([  48,  176,  304,  432,  560,  688,  816,  944, 1072, 1200, 1328,\n",
       "       1456, 1584, 1712, 1840, 1968, 2096, 2224, 2352, 2480, 2608, 2736,\n",
       "       2864, 2992, 3120, 3163])"
      ]
     },
     "execution_count": 25,
     "metadata": {},
     "output_type": "execute_result"
    }
   ],
   "source": [
    "layer_data['vit']"
   ]
  },
  {
   "cell_type": "code",
   "execution_count": 22,
   "metadata": {},
   "outputs": [
    {
     "data": {
      "text/plain": [
       "array([[1.47700417, 1.23648322, 1.07825041, ..., 0.18777421, 0.18731774,\n",
       "        0.18139565],\n",
       "       [1.47104204, 1.18420959, 1.08255649, ..., 0.19176582, 0.18883747,\n",
       "        0.17908637],\n",
       "       [1.244874  , 1.11012816, 1.00665116, ..., 0.19669527, 0.19003209,\n",
       "        0.18192868],\n",
       "       ...,\n",
       "       [1.41810071, 1.17744267, 1.07067478, ..., 0.18903318, 0.18393445,\n",
       "        0.17881076],\n",
       "       [1.31854725, 1.27244806, 1.05340636, ..., 0.19098125, 0.18580104,\n",
       "        0.1803873 ],\n",
       "       [1.53335702, 1.22063303, 1.14916253, ..., 0.19770221, 0.1892125 ,\n",
       "        0.18597688]])"
      ]
     },
     "execution_count": 22,
     "metadata": {},
     "output_type": "execute_result"
    }
   ],
   "source": [
    "eigen_data['mnist'][:, 41:201]"
   ]
  },
  {
   "cell_type": "code",
   "execution_count": 28,
   "metadata": {},
   "outputs": [],
   "source": [
    "top_eigen_data = {}\n",
    "TOP_NUM = 10\n",
    "for ma in model_arch:\n",
    "    top_eigen = []\n",
    "    ed = split_eigen_data[ma]\n",
    "    for ind in range(len(ed)-1):\n",
    "        top_each_layer = ed[ind][:, :TOP_NUM] if TOP_NUM <= ed[ind].shape[-1] else ed[ind]\n",
    "        top_eigen.append(top_each_layer)\n",
    "    top_eigen.append(ed[-1])\n",
    "    top_eigen_data[ma] = np.concatenate(top_eigen, axis=1)"
   ]
  },
  {
   "cell_type": "code",
   "execution_count": 21,
   "metadata": {},
   "outputs": [],
   "source": [
    "top_eigen_df = {}\n",
    "for ma in model_arch:\n",
    "    ted = top_eigen_data[ma]\n",
    "    eigs = ted[:, :-1].flatten('C')\n",
    "    eig_idx = [str(ind) for ind in range(1, ted.shape[-1])]*ted.shape[0]\n",
    "    poisoned = np.reshape([[p]*(ted.shape[-1]-1) for p in ted[:, -1]], eigs.shape, 'C')\n",
    "    df = pd.DataFrame({'eig_idx': eig_idx,\n",
    "                        'eig_val': eigs,\n",
    "                        'poisoned': poisoned})\n",
    "    df['norm_eig_val'] = df.groupby(['eig_idx', 'poisoned'])[['eig_val']].transform(lambda x: (x - x.mean())/x.std())\n",
    "    top_eigen_df[ma] = df"
   ]
  },
  {
   "cell_type": "code",
   "execution_count": null,
   "metadata": {},
   "outputs": [],
   "source": [
    "sns.set(rc={'figure.figsize':(16,30)});\n",
    "sns.boxplot(data=top_eigen_df['vit'], x='norm_eig_val', y='eig_idx', hue='poisoned');\n",
    "# fig, axs = plt.subplots(ncols=3, figsize=(24,15))\n",
    "# for ind, ax in enumerate(axs):\n",
    "#     sns.boxplot(data=top_eigen_df[model_arch[ind]], x='norm_eig_val', y='eig_idx', hue='poisoned', ax=ax);\n",
    "#     ax.set_title(model_arch[ind]+' models')"
   ]
  },
  {
   "cell_type": "code",
   "execution_count": 11,
   "metadata": {},
   "outputs": [
    {
     "name": "stdout",
     "output_type": "stream",
     "text": [
      "(250, 50)\n",
      "(250, 261)\n",
      "(500, 401)\n"
     ]
    }
   ],
   "source": [
    "for t in top_eigen_data.values():\n",
    "    print(t.shape)"
   ]
  },
  {
   "cell_type": "markdown",
   "metadata": {},
   "source": [
    "## Train / Tune the Models"
   ]
  },
  {
   "cell_type": "code",
   "execution_count": 31,
   "metadata": {},
   "outputs": [],
   "source": [
    "from sklearn.metrics import log_loss\n",
    "from sklearn.ensemble import GradientBoostingClassifier\n",
    "from sklearn.model_selection import train_test_split\n",
    "from sklearn.model_selection import GridSearchCV\n",
    "\n",
    "def bootstrap_performance(X, y, clf, n=10, test_size=.2, eps=.01):\n",
    "    all_cross_entropy, all_accuracy = [], []\n",
    "    for i in tqdm(range(n)):\n",
    "        X_train, X_test, y_train, y_test = train_test_split(X, y, test_size=test_size, random_state=i)\n",
    "        \n",
    "        clf.set_params(random_state=i)            \n",
    "        clf.fit(X_train, y_train)\n",
    "        \n",
    "        all_cross_entropy.append(log_loss(y_test, clf.predict_proba(X_test), eps=eps))\n",
    "        all_accuracy.append(clf.score(X_test, y_test))\n",
    "    return all_cross_entropy, all_accuracy"
   ]
  },
  {
   "cell_type": "code",
   "execution_count": 34,
   "metadata": {},
   "outputs": [
    {
     "name": "stderr",
     "output_type": "stream",
     "text": [
      "100%|██████████| 30/30 [04:06<00:00,  8.21s/it]\n",
      "100%|██████████| 30/30 [04:00<00:00,  8.02s/it]it]\n",
      "100%|██████████| 30/30 [04:13<00:00,  8.45s/it]it]\n",
      "100%|██████████| 40/40 [1:39:50<00:00, 149.76s/it]\n"
     ]
    }
   ],
   "source": [
    "N = 30\n",
    "clf = GradientBoostingClassifier(n_estimators=1000, learning_rate=0.002)\n",
    "result = {ma:[] for ma in model_arch}\n",
    "for ma in model_arch:\n",
    "    eigen_per_layer = split_eigen_data[ma][:-1]\n",
    "    label = split_eigen_data[ma][-1].flatten()\n",
    "    result_per_layer = []\n",
    "    for epl in tqdm(eigen_per_layer):\n",
    "        cen, acc = bootstrap_performance(epl, label, clf, n=N)\n",
    "        result[ma].append((np.mean(cen), np.mean(acc)))"
   ]
  },
  {
   "cell_type": "code",
   "execution_count": 36,
   "metadata": {},
   "outputs": [],
   "source": [
    "import json\n",
    "\n",
    "with open('/scratch/jialin/trojan_detection/projects/tdc-starter-kit/detection/extracted_features/eigen_val_result.json', 'r') as outfile:\n",
    "    json.dump(result, outfile)"
   ]
  },
  {
   "cell_type": "code",
   "execution_count": 40,
   "metadata": {},
   "outputs": [
    {
     "data": {
      "image/png": "[encoded data removed]",
      "text/plain": [
       "<Figure size 4000x800 with 3 Axes>"
      ]
     },
     "metadata": {},
     "output_type": "display_data"
    }
   ],
   "source": [
    "with open('/scratch/jialin/trojan_detection/projects/tdc-starter-kit/detection/extracted_features/eigen_val_result.json', 'r') as outfile:\n",
    "    result = json.load(outfile)\n",
    "\n",
    "# sns.set(rc={'figure.figsize':(16,30)});\n",
    "fig, axs = plt.subplots(ncols=3, figsize=(40, 8))\n",
    "for ind, ax in enumerate(axs):\n",
    "    df = pd.DataFrame(result[model_arch[ind]])\n",
    "    df.columns = ['mean_cen', 'mean_acc']\n",
    "    sns.scatterplot(data=df, ax=ax);\n",
    "    ax.set_title(model_arch[ind]+' models')"
   ]
  },
  {
   "cell_type": "code",
   "execution_count": 46,
   "metadata": {},
   "outputs": [],
   "source": [
    "mnist_weight_with_norm = np.load('/scratch/jialin/trojan_detection/projects/tdc-starter-kit/detection/extracted_features/mnist_weight_with_norm.npy')\n",
    "mnist_t_score = np.load('/scratch/jialin/trojan_detection/projects/tdc-starter-kit/detection/extracted_features/mnist_t_scores_gamma=98.npy')\n",
    "mnist_t = np.concatenate([mnist_weight_with_norm[:, :-1], np.diff(mnist_t_score[:, :-1]), mnist_t_score], axis=1)\n",
    "\n",
    "vit_weight_with_norm = np.load('/scratch/jialin/trojan_detection/projects/tdc-starter-kit/detection/extracted_features/vit_weight_with_norm.npy')\n",
    "vit_t_score = np.load('/scratch/jialin/trojan_detection/projects/tdc-starter-kit/detection/extracted_features/vit_t_scores_gamma=98.npy')\n",
    "vit_t = np.concatenate([vit_weight_with_norm[:, :-1], np.diff(vit_t_score[:, :-1]), vit_t_score], axis=1)\n",
    "\n",
    "wrn_t = wrn_weight_with_norm"
   ]
  },
  {
   "cell_type": "code",
   "execution_count": 29,
   "metadata": {},
   "outputs": [],
   "source": [
    "trigger_type_to_model_num = {}\n",
    "for model_num in range(250, 375):\n",
    "    info_filepath = os.path.join('/scratch/jialin/trojan_detection/projects/tdc_datasets/detection/train/trojan', num_to_model_id(model_num), 'info.json')\n",
    "    with open(info_filepath, 'r') as f:\n",
    "        curr_model_info = json.load(f)\n",
    "        trigger_type = curr_model_info['trigger_type']\n",
    "        if trigger_type not in trigger_type_to_model_num:\n",
    "            trigger_type_to_model_num[trigger_type] = [model_num-250]\n",
    "        else:\n",
    "            trigger_type_to_model_num[trigger_type].append(model_num-250)"
   ]
  },
  {
   "cell_type": "code",
   "execution_count": 30,
   "metadata": {},
   "outputs": [
    {
     "data": {
      "text/plain": [
       "True"
      ]
     },
     "execution_count": 30,
     "metadata": {},
     "output_type": "execute_result"
    }
   ],
   "source": [
    "trigger_type_to_model_num['patch'] == list(range(63))"
   ]
  },
  {
   "cell_type": "code",
   "execution_count": 32,
   "metadata": {},
   "outputs": [
    {
     "data": {
      "image/png": "[encoded data removed]",
      "text/plain": [
       "<Figure size 2000x800 with 1 Axes>"
      ]
     },
     "metadata": {},
     "output_type": "display_data"
    }
   ],
   "source": [
    "# patch - (375-437), blended - (438-)\n",
    "import seaborn as sns\n",
    "import pandas as pd\n",
    "\n",
    "t_levels = np.arange(0, 1.01, .05)\n",
    "df = pd.DataFrame()\n",
    "df['t_level'] = [t for t_level in t_levels for t in [str(round(t_level, 2))]*250]\n",
    "df['t_score'] = [t for i in range(len(t_levels)) for t in vit_t_score[:, i].tolist()]\n",
    "df['trojan'] = ([False]*125+[True]*125)*len(t_levels)\n",
    "df['trigger_type'] = (['none']*125+['patch']*63+['blended']*62)*len(t_levels)\n",
    "\n",
    "fig, ax = plt.subplots(figsize=(20,8))\n",
    "sns.boxplot(data=df, x='t_level', y='t_score', hue='trigger_type');"
   ]
  },
  {
   "cell_type": "code",
   "execution_count": 31,
   "metadata": {},
   "outputs": [
    {
     "data": {
      "image/png": "[encoded data removed]",
      "text/plain": [
       "<Figure size 2000x800 with 1 Axes>"
      ]
     },
     "metadata": {},
     "output_type": "display_data"
    }
   ],
   "source": [
    "# patch - (250-312), blended - (312-374) inclusive\n",
    "import seaborn as sns\n",
    "import pandas as pd\n",
    "\n",
    "t_levels = np.arange(0, 1.01, .05)\n",
    "df = pd.DataFrame()\n",
    "df['t_level'] = [t for t_level in t_levels for t in [str(round(t_level, 2))]*250]\n",
    "df['t_score'] = [t for i in range(len(t_levels)) for t in mnist_t_score[:, i].tolist()]\n",
    "df['trojan'] = ([False]*125+[True]*125)*len(t_levels)\n",
    "df['trigger_type'] = (['none']*125+['patch']*63+['blended']*62)*len(t_levels)\n",
    "\n",
    "fig, ax = plt.subplots(figsize=(20,8))\n",
    "sns.boxplot(data=df, x='t_level', y='t_score', hue='trigger_type');"
   ]
  },
  {
   "cell_type": "code",
   "execution_count": 27,
   "metadata": {},
   "outputs": [
    {
     "data": {
      "text/plain": [
       "0.72"
      ]
     },
     "execution_count": 27,
     "metadata": {},
     "output_type": "execute_result"
    }
   ],
   "source": [
    "clf = GradientBoostingClassifier(n_estimators=1000, learning_rate=0.002)\n",
    "X_train, X_test, y_train, y_test = train_test_split(np.concatenate(optimal_eigen['vit'][:3], axis=1), vit_weight[:, -1], test_size=.2)\n",
    "clf.fit(X_train, y_train)\n",
    "clf.score(X_test, y_test)"
   ]
  },
  {
   "cell_type": "code",
   "execution_count": 7,
   "metadata": {},
   "outputs": [
    {
     "data": {
      "text/plain": [
       "((250, 268), (250, 700))"
      ]
     },
     "execution_count": 7,
     "metadata": {},
     "output_type": "execute_result"
    }
   ],
   "source": [
    "mnist_weight = np.load(os.path.join(EXTRACTED_FILEDIR, 'mnist_weight_with_norm.npy'))\n",
    "vit_weight = np.load(os.path.join(EXTRACTED_FILEDIR, 'vit_weight_with_norm.npy'))\n",
    "mnist_eigen = optimal_eigen['mnist']\n",
    "vit_eigen = optimal_eigen['vit']\n",
    "mnist_features = np.concatenate([mnist_weight[:, :-1], np.concatenate(mnist_eigen, axis=1)], axis=1)\n",
    "vit_features = np.concatenate([vit_weight[:, :-1], np.concatenate(vit_eigen, axis=1)], axis=1)\n",
    "mnist_features.shape, vit_features.shape"
   ]
  },
  {
   "cell_type": "code",
   "execution_count": 8,
   "metadata": {},
   "outputs": [
    {
     "name": "stderr",
     "output_type": "stream",
     "text": [
      "100%|██████████| 50/50 [01:33<00:00,  1.86s/it]\n",
      "100%|██████████| 50/50 [06:00<00:00,  7.20s/it]\n"
     ]
    },
    {
     "data": {
      "text/plain": [
       "array([0.52034617, 0.7688    , 0.47320997, 0.7808    ])"
      ]
     },
     "execution_count": 8,
     "metadata": {},
     "output_type": "execute_result"
    }
   ],
   "source": [
    "N = 50\n",
    "clf_A = GradientBoostingClassifier(learning_rate=.003, n_estimators=1500, min_samples_split=160, min_samples_leaf=18, max_depth=5, max_features=28)     # cen - .47149433, acc - .7916 \n",
    "clf_B = GradientBoostingClassifier(learning_rate=.0035, n_estimators=1000, max_depth= 7, min_samples_leaf= 10, min_samples_split= 75, max_features=165, subsample=.98)      # cen - .48890442, acc - .75\n",
    "result = []\n",
    "result += list(bootstrap_performance(mnist_features, mnist_weight[:, -1], clf_A, n=N))\n",
    "result += list(bootstrap_performance(vit_features, vit_weight[:, -1], clf_B, n=N))\n",
    "# result += list(bootstrap_performance(wrn_t[:, :-1], wrn_t[:, -1], clf, n=N))\n",
    "np.mean(result, axis=1)\n",
    "# 0.50044675, 0.77133333, 0.45736496, 0.79466667 - weight, eigen, batch norm, tdiff, tscore\n",
    "# 0.50969904, 0.768     , 0.52291596, 0.752 - without tdiff and tscore\n",
    "# 0.50285352, 0.75733333, 0.45645858, 0.798 - with limited eigen\n",
    "# 0.50030608, 0.77066667, 0.45636384, 0.79666667 - without batch norm"
   ]
  },
  {
   "cell_type": "code",
   "execution_count": 23,
   "metadata": {},
   "outputs": [
    {
     "data": {
      "text/plain": [
       "array([406, 418, 390,  12, 419, 656, 425, 408, 321, 450])"
      ]
     },
     "execution_count": 23,
     "metadata": {},
     "output_type": "execute_result"
    }
   ],
   "source": [
    "np.argsort(clf.feature_importances_)[::-1][:10]\n",
    "# np.sort(clf.feature_importances_)[::-1][:10]"
   ]
  },
  {
   "cell_type": "code",
   "execution_count": 30,
   "metadata": {},
   "outputs": [
    {
     "data": {
      "text/plain": [
       "(250, 569)"
      ]
     },
     "execution_count": 30,
     "metadata": {},
     "output_type": "execute_result"
    }
   ],
   "source": [
    "vit_weight_with_rn = np.load('/scratch/jialin/trojan_detection/projects/tdc-starter-kit/detection/extracted_features/vit_weight_with_rn_5nl.npy')\n",
    "vit_weight_with_rn = vit_weight_with_rn[:, 43:]\n",
    "vit_weight_with_norm_and_rn = np.concatenate([vit_weight_with_rn[:, :4*43], vit_weight_with_norm], axis=1)\n",
    "vit_weight_with_norm_and_rn.shape"
   ]
  },
  {
   "cell_type": "code",
   "execution_count": 32,
   "metadata": {},
   "outputs": [
    {
     "name": "stderr",
     "output_type": "stream",
     "text": [
      "100%|██████████| 30/30 [10:32<00:00, 21.08s/it]\n"
     ]
    },
    {
     "data": {
      "text/plain": [
       "array([0.69206674, 0.76466667, 0.67905907, 0.778     , 0.91448034,\n",
       "       0.66533333, 0.98347907, 0.62666667, 0.75447109, 0.73133333,\n",
       "       0.77516751, 0.74466667])"
      ]
     },
     "execution_count": 32,
     "metadata": {},
     "output_type": "execute_result"
    }
   ],
   "source": [
    "\n",
    "result += list(bootstrap_performance(vit_weight_with_norm_and_rn[:, :-1], vit_weight_with_norm_and_rn[:, -1], clf, n=N))\n",
    "np.mean(result, axis=1)"
   ]
  },
  {
   "cell_type": "code",
   "execution_count": 27,
   "metadata": {},
   "outputs": [
    {
     "data": {
      "text/html": [
       "<div>\n",
       "<style scoped>\n",
       "    .dataframe tbody tr th:only-of-type {\n",
       "        vertical-align: middle;\n",
       "    }\n",
       "\n",
       "    .dataframe tbody tr th {\n",
       "        vertical-align: top;\n",
       "    }\n",
       "\n",
       "    .dataframe thead th {\n",
       "        text-align: right;\n",
       "    }\n",
       "</style>\n",
       "<table border=\"1\" class=\"dataframe\">\n",
       "  <thead>\n",
       "    <tr style=\"text-align: right;\">\n",
       "      <th></th>\n",
       "      <th>cross_entropy</th>\n",
       "      <th>accuracy</th>\n",
       "    </tr>\n",
       "  </thead>\n",
       "  <tbody>\n",
       "    <tr>\n",
       "      <th>mnist_weight_with_norm</th>\n",
       "      <td>0.692067</td>\n",
       "      <td>0.764667</td>\n",
       "    </tr>\n",
       "    <tr>\n",
       "      <th>mnist_weight</th>\n",
       "      <td>0.679059</td>\n",
       "      <td>0.778000</td>\n",
       "    </tr>\n",
       "    <tr>\n",
       "      <th>vit_weight_with_norm</th>\n",
       "      <td>0.914480</td>\n",
       "      <td>0.665333</td>\n",
       "    </tr>\n",
       "    <tr>\n",
       "      <th>vit_weight</th>\n",
       "      <td>0.983479</td>\n",
       "      <td>0.626667</td>\n",
       "    </tr>\n",
       "    <tr>\n",
       "      <th>vit_current_features</th>\n",
       "      <td>0.754471</td>\n",
       "      <td>0.731333</td>\n",
       "    </tr>\n",
       "  </tbody>\n",
       "</table>\n",
       "</div>"
      ],
      "text/plain": [
       "                        cross_entropy  accuracy\n",
       "mnist_weight_with_norm       0.692067  0.764667\n",
       "mnist_weight                 0.679059  0.778000\n",
       "vit_weight_with_norm         0.914480  0.665333\n",
       "vit_weight                   0.983479  0.626667\n",
       "vit_current_features         0.754471  0.731333"
      ]
     },
     "execution_count": 27,
     "metadata": {},
     "output_type": "execute_result"
    }
   ],
   "source": [
    "import pandas as pd\n",
    "\n",
    "means = np.mean(result, axis=1)\n",
    "df = pd.DataFrame.from_dict({'mnist_weight_with_norm': [means[0], means[1]], \n",
    "                            'mnist_weight': [means[2], means[3]], \n",
    "                            'vit_weight_with_norm': [means[4], means[5]],\n",
    "                            'vit_weight': [means[6], means[7]],\n",
    "                            'vit_current_features': [means[8], means[9]]}, orient='index')\n",
    "df.columns = ['cross_entropy', 'accuracy']\n",
    "df"
   ]
  },
  {
   "cell_type": "code",
   "execution_count": 29,
   "metadata": {},
   "outputs": [
    {
     "data": {
      "text/plain": [
       "((250, 503), (250, 331))"
      ]
     },
     "execution_count": 29,
     "metadata": {},
     "output_type": "execute_result"
    }
   ],
   "source": [
    "vit_weight_with_rn.shape, vit_weight.shape"
   ]
  },
  {
   "cell_type": "code",
   "execution_count": null,
   "metadata": {},
   "outputs": [],
   "source": [
    "clf_A = GradientBoostingClassifier(learning_rate=.003, n_estimators=1500, min_samples_split=160, min_samples_leaf=18, max_depth=5, max_features=28)     # cen - .47149433, acc - .7916 \n",
    "clf_B = GradientBoostingClassifier(learning_rate=.0035, n_estimators=1000, max_depth= 7, min_samples_leaf= 10, min_samples_split= 75, max_features=165, subsample=.98)      # cen - .48890442, acc - .75\n",
    "param = {'max_depth': range(5, 16, 2), 'min_samples_leaf':range(10, 101, 10), 'min_samples_split': range(50, 601, 50)}   #\n",
    "gsearch = GridSearchCV(estimator=clf_A, param_grid=param, scoring=['neg_log_loss', 'accuracy'], n_jobs=10, cv=5, refit=False);\n",
    "gsearch.fit(mnist[:, :-1], mnist[:, -1]);"
   ]
  },
  {
   "cell_type": "code",
   "execution_count": null,
   "metadata": {},
   "outputs": [],
   "source": [
    "result = pd.DataFrame(gsearch.cv_results_).sort_values(by=['rank_test_accuracy', 'rank_test_neg_log_loss'])\n",
    "result.to_csv('/scratch/jialin/trojan_detection/projects/tdc-starter-kit/detection/extracted_features/gsearch_result.csv')"
   ]
  },
  {
   "cell_type": "markdown",
   "metadata": {},
   "source": [
    "## Feeding Random Noise"
   ]
  },
  {
   "cell_type": "code",
   "execution_count": 113,
   "metadata": {},
   "outputs": [],
   "source": [
    "import torch\n",
    "from torch.utils.data import DataLoader\n",
    "\n",
    "def random_noise_generator(channel=None, resolution=None, num_of_datapts=1000, generate_method='random_noise', noise_level=1, input_data=None):\n",
    "    processed_data = None\n",
    "    if input_data is None:\n",
    "        features = torch.rand(num_of_datapts, channel, resolution, resolution)\n",
    "    elif 'torchvision.datasets' in str(input_data.__class__):\n",
    "        dataloader = DataLoader(input_data, batch_size=num_of_datapts, shuffle=True)\n",
    "        features, _ = next(iter(dataloader))\n",
    "    if generate_method == 'random_noise':\n",
    "        random_noise = torch.rand(num_of_datapts, channel, resolution, resolution)\n",
    "        processed_data = features + random_noise*noise_level\n",
    "    elif generate_method == 'gaussian_blur':\n",
    "        blurrer = T.GaussianBlur(kernel_size=(5, 9), sigma=(0.1, 5))\n",
    "        # blurrer = T.GaussianBlur(kernel_size=resolution-1)\n",
    "        rnd_idx = np.random.permutation(num_of_datapts)[:int(num_of_datapts*noise_level)]\n",
    "        processed_data = features\n",
    "        processed_data[rnd_idx, :] = blurrer(features[rnd_idx, :])\n",
    "    # min_data = processed_data.min(dim=3, keepdim=True).values.min(dim=2, keepdim=True).values.min(dim=1, keepdim=True).values\n",
    "    # max_data = processed_data.max(dim=3, keepdim=True).values.max(dim=2, keepdim=True).values.max(dim=1, keepdim=True).values\n",
    "    # processed_data = (processed_data - min_data)/(max_data - min_data)\n",
    "    return processed_data"
   ]
  },
  {
   "cell_type": "code",
   "execution_count": 6,
   "metadata": {},
   "outputs": [],
   "source": [
    "def extract_prob(model, random_noise):\n",
    "    with torch.no_grad():\n",
    "        curr_model = model.to(device)\n",
    "        random_noise = random_noise.to(device)\n",
    "        output = curr_model(random_noise).softmax(dim=-1).mean(dim=0)\n",
    "    del curr_model, random_noise\n",
    "    return output.cpu().detach().numpy()"
   ]
  },
  {
   "cell_type": "code",
   "execution_count": 62,
   "metadata": {},
   "outputs": [],
   "source": [
    "def extract_info_for_model_input(clean_or_trojan, model_id):\n",
    "    curr_model_dir = os.path.join(MODEL_FILEDIR, clean_or_trojan, num_to_model_id(model_id))\n",
    "    with open(os.path.join(curr_model_dir, 'info.json'), 'r') as f:\n",
    "        curr_model_info = json.load(f)\n",
    "        resolution = curr_model_info['input_resolution']\n",
    "        channel = 1 if curr_model_info['dataset'] == 'MNIST' else 3\n",
    "    return channel, resolution\n",
    "\n",
    "def extract_prob_from_models(clean_or_trojan, model_id, random_noise):\n",
    "    curr_model_dir = os.path.join(MODEL_FILEDIR, clean_or_trojan, num_to_model_id(model_id))\n",
    "    with torch.no_grad():\n",
    "        curr_model = torch.load(os.path.join(curr_model_dir, 'model.pt')).to(device)\n",
    "        random_noise = random_noise.to(device)\n",
    "        output = curr_model(random_noise).softmax(dim=-1).mean(dim=0)\n",
    "    return output.cpu().detach().numpy()"
   ]
  },
  {
   "cell_type": "code",
   "execution_count": 146,
   "metadata": {},
   "outputs": [
    {
     "name": "stderr",
     "output_type": "stream",
     "text": [
      "100%|██████████| 125/125 [11:50<00:00,  5.68s/it]\n",
      "100%|██████████| 125/125 [11:47<00:00,  5.66s/it]\n",
      "100%|██████████| 125/125 [11:48<00:00,  5.67s/it]\n",
      "100%|██████████| 125/125 [11:48<00:00,  5.67s/it]\n",
      "100%|██████████| 125/125 [11:48<00:00,  5.67s/it]\n"
     ]
    }
   ],
   "source": [
    "model_type = 'vit'\n",
    "model_dict = {'mnist': (1, 28, range(375, 500), mnist_ds, [0.0, .5, 1]), \n",
    "                'vit': (3, 32, range(250, 375), gtsrb_ds, [.25, .5, .75, 1]), \n",
    "                'wrn_10': (3, 32, range(0, 125), cifar10_ds), \n",
    "                'wrn_100': (3, 32, range(125, 250), cifar100_ds)}\n",
    "cha, res, model_nums, ds, noise_levels = model_dict[model_type]\n",
    "iters = 2\n",
    "clean_model_avgs, trojan_model_avgs = [], []\n",
    "for nl in noise_levels:\n",
    "    for model_num in tqdm(model_nums):\n",
    "        clean_outputs, trojan_outputs = [], []\n",
    "        for _ in range(iters):\n",
    "            random_noise_c = random_noise_generator(cha, res, generate_method='random_noise', num_of_datapts=3000, input_data=ds, noise_level=nl)\n",
    "            random_noise_t = random_noise_generator(cha, res, generate_method='random_noise', num_of_datapts=3000, input_data=ds, noise_level=nl)\n",
    "            clean_outputs.append(extract_prob_from_models('clean', model_num, random_noise_c))\n",
    "            trojan_outputs.append(extract_prob_from_models('trojan', model_num, random_noise_t))\n",
    "        clean_model_avgs.append(np.stack(clean_outputs, axis=0).mean(axis=0))\n",
    "        trojan_model_avgs.append(np.stack(trojan_outputs, axis=0).mean(axis=0))"
   ]
  },
  {
   "cell_type": "code",
   "execution_count": 147,
   "metadata": {},
   "outputs": [],
   "source": [
    "model_sep = np.array(list(range(len(noise_levels)+1)))*125"
   ]
  },
  {
   "cell_type": "code",
   "execution_count": 115,
   "metadata": {},
   "outputs": [],
   "source": [
    "clean_avgs, trojan_avgs = [], []\n",
    "for i in range(len(noise_levels)):\n",
    "    clean_avgs.append(np.stack(clean_model_avgs[model_sep[i]: model_sep[i+1]], axis=0).mean(axis=0))\n",
    "    trojan_avgs.append(np.stack(trojan_model_avgs[model_sep[i]: model_sep[i+1]], axis=0).mean(axis=0))"
   ]
  },
  {
   "cell_type": "code",
   "execution_count": 148,
   "metadata": {},
   "outputs": [],
   "source": [
    "clean_model_nl, trojan_model_nl = clean_model_avgs[0:125], trojan_model_avgs[0:125]\n",
    "for i in range(1, len(noise_levels)):\n",
    "    clean_model_nl = np.concatenate([clean_model_nl, clean_model_avgs[model_sep[i]: model_sep[i+1]]], axis=1)\n",
    "    trojan_model_nl = np.concatenate([trojan_model_nl, trojan_model_avgs[model_sep[i]: model_sep[i+1]]], axis=1)"
   ]
  },
  {
   "cell_type": "code",
   "execution_count": 149,
   "metadata": {},
   "outputs": [
    {
     "data": {
      "text/plain": [
       "((250, 215), 250)"
      ]
     },
     "execution_count": 149,
     "metadata": {},
     "output_type": "execute_result"
    }
   ],
   "source": [
    "feature = np.concatenate([clean_model_nl, trojan_model_nl], axis=0)\n",
    "label = [False]*125 + [True]*125\n",
    "feature.shape, len(label)"
   ]
  },
  {
   "cell_type": "code",
   "execution_count": 166,
   "metadata": {},
   "outputs": [
    {
     "data": {
      "text/plain": [
       "(250, 503)"
      ]
     },
     "execution_count": 166,
     "metadata": {},
     "output_type": "execute_result"
    }
   ],
   "source": [
    "vit_weight_with_feature = np.concatenate((feature[:, 43:], vit_weight), axis=1)\n",
    "vit_weight_with_feature.shape"
   ]
  },
  {
   "cell_type": "code",
   "execution_count": 15,
   "metadata": {},
   "outputs": [],
   "source": [
    "mnist_weight = np.load('/scratch/jialin/trojan_detection/projects/tdc-starter-kit/detection/extracted_features/mnist_weight.npy')\n",
    "mnist_tatt = np.load('/scratch/jialin/trojan_detection/projects/tdc-starter-kit/detection/extracted_features/mnist_TrojanAttack.npy')"
   ]
  },
  {
   "cell_type": "code",
   "execution_count": 7,
   "metadata": {},
   "outputs": [
    {
     "data": {
      "text/plain": [
       "(250, 106)"
      ]
     },
     "execution_count": 7,
     "metadata": {},
     "output_type": "execute_result"
    }
   ],
   "source": [
    "mnist_X = np.concatenate([mnist_tatt, mnist_weight[:, :-1]], axis=1)\n",
    "mnist_y = mnist_weight[:, -1]\n",
    "mnist_X.shape"
   ]
  },
  {
   "cell_type": "code",
   "execution_count": 167,
   "metadata": {},
   "outputs": [
    {
     "data": {
      "text/plain": [
       "0.82"
      ]
     },
     "execution_count": 167,
     "metadata": {},
     "output_type": "execute_result"
    }
   ],
   "source": [
    "clf = GradientBoostingClassifier(n_estimators=1000, learning_rate=0.02)\n",
    "X_train, X_test, y_train, y_test = train_test_split(vit_weight_with_feature[:, :-1], vit_weight_with_feature[:, -1], test_size=.2)\n",
    "clf.fit(X_train, y_train)\n",
    "clf.score(X_test, y_test)"
   ]
  },
  {
   "cell_type": "code",
   "execution_count": 13,
   "metadata": {},
   "outputs": [
    {
     "name": "stderr",
     "output_type": "stream",
     "text": [
      "100%|██████████| 20/20 [02:25<00:00,  7.27s/it]\n",
      "100%|██████████| 20/20 [02:47<00:00,  8.38s/it]\n"
     ]
    },
    {
     "data": {
      "text/plain": [
       "array([0.834785  , 0.763     , 0.77335695, 0.779     ])"
      ]
     },
     "execution_count": 13,
     "metadata": {},
     "output_type": "execute_result"
    }
   ],
   "source": [
    "result = []\n",
    "clf = GradientBoostingClassifier(n_estimators=2000, learning_rate=0.02)\n",
    "result += list(bootstrap_performance(mnist_weight[:, :-1], mnist_weight[:, -1], clf, n=20))\n",
    "result += list(bootstrap_performance(mnist_X, mnist_y, clf, n=20))\n",
    "np.mean(result, axis=1)"
   ]
  },
  {
   "cell_type": "code",
   "execution_count": null,
   "metadata": {},
   "outputs": [],
   "source": [
    "np.argsort(clf.feature_importances_)[::-1]"
   ]
  },
  {
   "cell_type": "code",
   "execution_count": 93,
   "metadata": {},
   "outputs": [
    {
     "data": {
      "image/png": "[encoded data removed]",
      "text/plain": [
       "<Figure size 640x480 with 1 Axes>"
      ]
     },
     "metadata": {},
     "output_type": "display_data"
    }
   ],
   "source": [
    "import matplotlib.pyplot as plt\n",
    "\n",
    "fig, ax = plt.subplots()\n",
    "\n",
    "\n",
    "clean_avg = np.stack(clean_model_avgs, axis=0).mean(axis=0)\n",
    "trojan_avg = np.stack(trojan_model_avgs, axis=0).mean(axis=0)\n",
    "num_classes = 10\n",
    "baseline = [1/num_classes]*num_classes\n",
    "xlabel = list(range(num_classes))\n",
    "ax.plot(xlabel, baseline, c='red', label='baseline')\n",
    "ax.scatter(xlabel, clean_avg, c='blue', label='clean', s=10)\n",
    "ax.scatter(xlabel, trojan_avg, c='green', label='trojan', s=10)\n",
    "\n",
    "plt.legend()\n",
    "plt.show()"
   ]
  },
  {
   "cell_type": "code",
   "execution_count": 42,
   "metadata": {},
   "outputs": [
    {
     "data": {
      "image/png": "[encoded data removed]",
      "text/plain": [
       "<Figure size 2400x400 with 4 Axes>"
      ]
     },
     "metadata": {},
     "output_type": "display_data"
    }
   ],
   "source": [
    "import matplotlib.pyplot as plt\n",
    "\n",
    "fig, axs = plt.subplots(1, 4, figsize=(24, 4))\n",
    "\n",
    "for ind, ax in enumerate(axs):\n",
    "    clean_avg = clean_avgs[ind]\n",
    "    trojan_avg = trojan_avgs[ind]\n",
    "    num_classes = clean_avg.shape[0]\n",
    "    baseline = [1/num_classes]*num_classes\n",
    "    xlabel = list(range(num_classes))\n",
    "    ax.plot(xlabel, baseline, c='red', label='baseline')\n",
    "    ax.scatter(xlabel, clean_avg, c='blue', label='clean', s=10)\n",
    "    ax.scatter(xlabel, trojan_avg, c='green', label='trojan', s=10)\n",
    "\n",
    "plt.legend()\n",
    "plt.show()"
   ]
  },
  {
   "cell_type": "markdown",
   "metadata": {},
   "source": [
    "# Submission"
   ]
  },
  {
   "cell_type": "code",
   "execution_count": 9,
   "metadata": {},
   "outputs": [],
   "source": [
    "mnist_weight = np.load(os.path.join(EXTRACTED_FILEDIR, 'mnist_weight_with_norm.npy'))\n",
    "vit_weight = np.load(os.path.join(EXTRACTED_FILEDIR, 'vit_weight_with_norm.npy'))\n",
    "mnist_eigen = optimal_eigen['mnist']\n",
    "vit_eigen = optimal_eigen['vit']\n",
    "mnist = np.concatenate([mnist_weight[:, :-1], np.concatenate(mnist_eigen, axis=1), mnist_weight[:, -1].reshape(-1, 1)], axis=1)\n",
    "vit = np.concatenate([vit_weight[:, :-1], np.concatenate(vit_eigen, axis=1), vit_weight[:, -1].reshape(-1, 1)], axis=1)\n",
    "wrn = np.load('/scratch/jialin/trojan_detection/projects/tdc-starter-kit/detection/extracted_features/wrn_weight_with_norm.npy')\n",
    "optimal_eigen_idx = {'MNIST_Network':(41, 201), 'SimpleViT':(0, 304)}"
   ]
  },
  {
   "cell_type": "code",
   "execution_count": 10,
   "metadata": {},
   "outputs": [
    {
     "data": {
      "text/plain": [
       "((250, 269), (250, 701), (500, 697))"
      ]
     },
     "execution_count": 10,
     "metadata": {},
     "output_type": "execute_result"
    }
   ],
   "source": [
    "mnist.shape, vit.shape, wrn.shape"
   ]
  },
  {
   "cell_type": "code",
   "execution_count": 25,
   "metadata": {},
   "outputs": [
    {
     "ename": "KeyboardInterrupt",
     "evalue": "",
     "output_type": "error",
     "traceback": [
      "\u001b[0;31m---------------------------------------------------------------------------\u001b[0m",
      "\u001b[0;31mKeyboardInterrupt\u001b[0m                         Traceback (most recent call last)",
      "\u001b[1;32m/scratch/jialin/trojan_detection/projects/tdc-starter-kit/detection/explore.ipynb Cell 96\u001b[0m in \u001b[0;36m<cell line: 5>\u001b[0;34m()\u001b[0m\n\u001b[1;32m      <a href='vscode-notebook-cell://ssh-remote%2Bmm340.cs.berkeley.edu/scratch/jialin/trojan_detection/projects/tdc-starter-kit/detection/explore.ipynb#Y202sdnNjb2RlLXJlbW90ZQ%3D%3D?line=2'>3</a>\u001b[0m param \u001b[39m=\u001b[39m {\u001b[39m'\u001b[39m\u001b[39mmax_depth\u001b[39m\u001b[39m'\u001b[39m: \u001b[39mrange\u001b[39m(\u001b[39m1\u001b[39m, \u001b[39m6\u001b[39m), \u001b[39m'\u001b[39m\u001b[39mmin_samples_leaf\u001b[39m\u001b[39m'\u001b[39m:\u001b[39mrange\u001b[39m(\u001b[39m2\u001b[39m, \u001b[39m31\u001b[39m, \u001b[39m3\u001b[39m), \u001b[39m'\u001b[39m\u001b[39mmin_samples_split\u001b[39m\u001b[39m'\u001b[39m: \u001b[39mrange\u001b[39m(\u001b[39m2\u001b[39m, \u001b[39m81\u001b[39m, \u001b[39m5\u001b[39m)}   \u001b[39m#max_features=165, subsample=.98\u001b[39;00m\n\u001b[1;32m      <a href='vscode-notebook-cell://ssh-remote%2Bmm340.cs.berkeley.edu/scratch/jialin/trojan_detection/projects/tdc-starter-kit/detection/explore.ipynb#Y202sdnNjb2RlLXJlbW90ZQ%3D%3D?line=3'>4</a>\u001b[0m gsearch \u001b[39m=\u001b[39m GridSearchCV(estimator\u001b[39m=\u001b[39mclf_B, param_grid\u001b[39m=\u001b[39mparam, scoring\u001b[39m=\u001b[39m[\u001b[39m'\u001b[39m\u001b[39mneg_log_loss\u001b[39m\u001b[39m'\u001b[39m, \u001b[39m'\u001b[39m\u001b[39maccuracy\u001b[39m\u001b[39m'\u001b[39m], n_jobs\u001b[39m=\u001b[39m\u001b[39m10\u001b[39m, cv\u001b[39m=\u001b[39m\u001b[39m5\u001b[39m, refit\u001b[39m=\u001b[39m\u001b[39mFalse\u001b[39;00m);\n\u001b[0;32m----> <a href='vscode-notebook-cell://ssh-remote%2Bmm340.cs.berkeley.edu/scratch/jialin/trojan_detection/projects/tdc-starter-kit/detection/explore.ipynb#Y202sdnNjb2RlLXJlbW90ZQ%3D%3D?line=4'>5</a>\u001b[0m gsearch\u001b[39m.\u001b[39;49mfit(vit[:, :\u001b[39m-\u001b[39;49m\u001b[39m1\u001b[39;49m], vit[:, \u001b[39m-\u001b[39;49m\u001b[39m1\u001b[39;49m])\n",
      "File \u001b[0;32m~/anaconda3/envs/trojan_detection/lib/python3.8/site-packages/sklearn/utils/validation.py:73\u001b[0m, in \u001b[0;36m_deprecate_positional_args.<locals>.inner_f\u001b[0;34m(*args, **kwargs)\u001b[0m\n\u001b[1;32m     68\u001b[0m     warnings\u001b[39m.\u001b[39mwarn(\u001b[39m\"\u001b[39m\u001b[39mPass \u001b[39m\u001b[39m{}\u001b[39;00m\u001b[39m as keyword args. From version 0.25 \u001b[39m\u001b[39m\"\u001b[39m\n\u001b[1;32m     69\u001b[0m                   \u001b[39m\"\u001b[39m\u001b[39mpassing these as positional arguments will \u001b[39m\u001b[39m\"\u001b[39m\n\u001b[1;32m     70\u001b[0m                   \u001b[39m\"\u001b[39m\u001b[39mresult in an error\u001b[39m\u001b[39m\"\u001b[39m\u001b[39m.\u001b[39mformat(\u001b[39m\"\u001b[39m\u001b[39m, \u001b[39m\u001b[39m\"\u001b[39m\u001b[39m.\u001b[39mjoin(args_msg)),\n\u001b[1;32m     71\u001b[0m                   \u001b[39mFutureWarning\u001b[39;00m)\n\u001b[1;32m     72\u001b[0m kwargs\u001b[39m.\u001b[39mupdate({k: arg \u001b[39mfor\u001b[39;00m k, arg \u001b[39min\u001b[39;00m \u001b[39mzip\u001b[39m(sig\u001b[39m.\u001b[39mparameters, args)})\n\u001b[0;32m---> 73\u001b[0m \u001b[39mreturn\u001b[39;00m f(\u001b[39m*\u001b[39;49m\u001b[39m*\u001b[39;49mkwargs)\n",
      "File \u001b[0;32m~/anaconda3/envs/trojan_detection/lib/python3.8/site-packages/sklearn/model_selection/_search.py:736\u001b[0m, in \u001b[0;36mBaseSearchCV.fit\u001b[0;34m(self, X, y, groups, **fit_params)\u001b[0m\n\u001b[1;32m    732\u001b[0m         results \u001b[39m=\u001b[39m \u001b[39mself\u001b[39m\u001b[39m.\u001b[39m_format_results(\n\u001b[1;32m    733\u001b[0m             all_candidate_params, scorers, n_splits, all_out)\n\u001b[1;32m    734\u001b[0m         \u001b[39mreturn\u001b[39;00m results\n\u001b[0;32m--> 736\u001b[0m     \u001b[39mself\u001b[39;49m\u001b[39m.\u001b[39;49m_run_search(evaluate_candidates)\n\u001b[1;32m    738\u001b[0m \u001b[39m# For multi-metric evaluation, store the best_index_, best_params_ and\u001b[39;00m\n\u001b[1;32m    739\u001b[0m \u001b[39m# best_score_ iff refit is one of the scorer names\u001b[39;00m\n\u001b[1;32m    740\u001b[0m \u001b[39m# In single metric evaluation, refit_metric is \"score\"\u001b[39;00m\n\u001b[1;32m    741\u001b[0m \u001b[39mif\u001b[39;00m \u001b[39mself\u001b[39m\u001b[39m.\u001b[39mrefit \u001b[39mor\u001b[39;00m \u001b[39mnot\u001b[39;00m \u001b[39mself\u001b[39m\u001b[39m.\u001b[39mmultimetric_:\n\u001b[1;32m    742\u001b[0m     \u001b[39m# If callable, refit is expected to return the index of the best\u001b[39;00m\n\u001b[1;32m    743\u001b[0m     \u001b[39m# parameter set.\u001b[39;00m\n",
      "File \u001b[0;32m~/anaconda3/envs/trojan_detection/lib/python3.8/site-packages/sklearn/model_selection/_search.py:1188\u001b[0m, in \u001b[0;36mGridSearchCV._run_search\u001b[0;34m(self, evaluate_candidates)\u001b[0m\n\u001b[1;32m   1186\u001b[0m \u001b[39mdef\u001b[39;00m \u001b[39m_run_search\u001b[39m(\u001b[39mself\u001b[39m, evaluate_candidates):\n\u001b[1;32m   1187\u001b[0m     \u001b[39m\"\"\"Search all candidates in param_grid\"\"\"\u001b[39;00m\n\u001b[0;32m-> 1188\u001b[0m     evaluate_candidates(ParameterGrid(\u001b[39mself\u001b[39;49m\u001b[39m.\u001b[39;49mparam_grid))\n",
      "File \u001b[0;32m~/anaconda3/envs/trojan_detection/lib/python3.8/site-packages/sklearn/model_selection/_search.py:708\u001b[0m, in \u001b[0;36mBaseSearchCV.fit.<locals>.evaluate_candidates\u001b[0;34m(candidate_params)\u001b[0m\n\u001b[1;32m    703\u001b[0m \u001b[39mif\u001b[39;00m \u001b[39mself\u001b[39m\u001b[39m.\u001b[39mverbose \u001b[39m>\u001b[39m \u001b[39m0\u001b[39m:\n\u001b[1;32m    704\u001b[0m     \u001b[39mprint\u001b[39m(\u001b[39m\"\u001b[39m\u001b[39mFitting \u001b[39m\u001b[39m{0}\u001b[39;00m\u001b[39m folds for each of \u001b[39m\u001b[39m{1}\u001b[39;00m\u001b[39m candidates,\u001b[39m\u001b[39m\"\u001b[39m\n\u001b[1;32m    705\u001b[0m           \u001b[39m\"\u001b[39m\u001b[39m totalling \u001b[39m\u001b[39m{2}\u001b[39;00m\u001b[39m fits\u001b[39m\u001b[39m\"\u001b[39m\u001b[39m.\u001b[39mformat(\n\u001b[1;32m    706\u001b[0m               n_splits, n_candidates, n_candidates \u001b[39m*\u001b[39m n_splits))\n\u001b[0;32m--> 708\u001b[0m out \u001b[39m=\u001b[39m parallel(delayed(_fit_and_score)(clone(base_estimator),\n\u001b[1;32m    709\u001b[0m                                        X, y,\n\u001b[1;32m    710\u001b[0m                                        train\u001b[39m=\u001b[39;49mtrain, test\u001b[39m=\u001b[39;49mtest,\n\u001b[1;32m    711\u001b[0m                                        parameters\u001b[39m=\u001b[39;49mparameters,\n\u001b[1;32m    712\u001b[0m                                        \u001b[39m*\u001b[39;49m\u001b[39m*\u001b[39;49mfit_and_score_kwargs)\n\u001b[1;32m    713\u001b[0m                \u001b[39mfor\u001b[39;49;00m parameters, (train, test)\n\u001b[1;32m    714\u001b[0m                \u001b[39min\u001b[39;49;00m product(candidate_params,\n\u001b[1;32m    715\u001b[0m                           cv\u001b[39m.\u001b[39;49msplit(X, y, groups)))\n\u001b[1;32m    717\u001b[0m \u001b[39mif\u001b[39;00m \u001b[39mlen\u001b[39m(out) \u001b[39m<\u001b[39m \u001b[39m1\u001b[39m:\n\u001b[1;32m    718\u001b[0m     \u001b[39mraise\u001b[39;00m \u001b[39mValueError\u001b[39;00m(\u001b[39m'\u001b[39m\u001b[39mNo fits were performed. \u001b[39m\u001b[39m'\u001b[39m\n\u001b[1;32m    719\u001b[0m                      \u001b[39m'\u001b[39m\u001b[39mWas the CV iterator empty? \u001b[39m\u001b[39m'\u001b[39m\n\u001b[1;32m    720\u001b[0m                      \u001b[39m'\u001b[39m\u001b[39mWere there no candidates?\u001b[39m\u001b[39m'\u001b[39m)\n",
      "File \u001b[0;32m~/anaconda3/envs/trojan_detection/lib/python3.8/site-packages/joblib/parallel.py:1056\u001b[0m, in \u001b[0;36mParallel.__call__\u001b[0;34m(self, iterable)\u001b[0m\n\u001b[1;32m   1053\u001b[0m     \u001b[39mself\u001b[39m\u001b[39m.\u001b[39m_iterating \u001b[39m=\u001b[39m \u001b[39mFalse\u001b[39;00m\n\u001b[1;32m   1055\u001b[0m \u001b[39mwith\u001b[39;00m \u001b[39mself\u001b[39m\u001b[39m.\u001b[39m_backend\u001b[39m.\u001b[39mretrieval_context():\n\u001b[0;32m-> 1056\u001b[0m     \u001b[39mself\u001b[39;49m\u001b[39m.\u001b[39;49mretrieve()\n\u001b[1;32m   1057\u001b[0m \u001b[39m# Make sure that we get a last message telling us we are done\u001b[39;00m\n\u001b[1;32m   1058\u001b[0m elapsed_time \u001b[39m=\u001b[39m time\u001b[39m.\u001b[39mtime() \u001b[39m-\u001b[39m \u001b[39mself\u001b[39m\u001b[39m.\u001b[39m_start_time\n",
      "File \u001b[0;32m~/anaconda3/envs/trojan_detection/lib/python3.8/site-packages/joblib/parallel.py:935\u001b[0m, in \u001b[0;36mParallel.retrieve\u001b[0;34m(self)\u001b[0m\n\u001b[1;32m    933\u001b[0m \u001b[39mtry\u001b[39;00m:\n\u001b[1;32m    934\u001b[0m     \u001b[39mif\u001b[39;00m \u001b[39mgetattr\u001b[39m(\u001b[39mself\u001b[39m\u001b[39m.\u001b[39m_backend, \u001b[39m'\u001b[39m\u001b[39msupports_timeout\u001b[39m\u001b[39m'\u001b[39m, \u001b[39mFalse\u001b[39;00m):\n\u001b[0;32m--> 935\u001b[0m         \u001b[39mself\u001b[39m\u001b[39m.\u001b[39m_output\u001b[39m.\u001b[39mextend(job\u001b[39m.\u001b[39;49mget(timeout\u001b[39m=\u001b[39;49m\u001b[39mself\u001b[39;49m\u001b[39m.\u001b[39;49mtimeout))\n\u001b[1;32m    936\u001b[0m     \u001b[39melse\u001b[39;00m:\n\u001b[1;32m    937\u001b[0m         \u001b[39mself\u001b[39m\u001b[39m.\u001b[39m_output\u001b[39m.\u001b[39mextend(job\u001b[39m.\u001b[39mget())\n",
      "File \u001b[0;32m~/anaconda3/envs/trojan_detection/lib/python3.8/site-packages/joblib/_parallel_backends.py:542\u001b[0m, in \u001b[0;36mLokyBackend.wrap_future_result\u001b[0;34m(future, timeout)\u001b[0m\n\u001b[1;32m    539\u001b[0m \u001b[39m\"\"\"Wrapper for Future.result to implement the same behaviour as\u001b[39;00m\n\u001b[1;32m    540\u001b[0m \u001b[39mAsyncResults.get from multiprocessing.\"\"\"\u001b[39;00m\n\u001b[1;32m    541\u001b[0m \u001b[39mtry\u001b[39;00m:\n\u001b[0;32m--> 542\u001b[0m     \u001b[39mreturn\u001b[39;00m future\u001b[39m.\u001b[39;49mresult(timeout\u001b[39m=\u001b[39;49mtimeout)\n\u001b[1;32m    543\u001b[0m \u001b[39mexcept\u001b[39;00m CfTimeoutError \u001b[39mas\u001b[39;00m e:\n\u001b[1;32m    544\u001b[0m     \u001b[39mraise\u001b[39;00m \u001b[39mTimeoutError\u001b[39;00m \u001b[39mfrom\u001b[39;00m \u001b[39me\u001b[39;00m\n",
      "File \u001b[0;32m~/anaconda3/envs/trojan_detection/lib/python3.8/concurrent/futures/_base.py:434\u001b[0m, in \u001b[0;36mFuture.result\u001b[0;34m(self, timeout)\u001b[0m\n\u001b[1;32m    431\u001b[0m \u001b[39melif\u001b[39;00m \u001b[39mself\u001b[39m\u001b[39m.\u001b[39m_state \u001b[39m==\u001b[39m FINISHED:\n\u001b[1;32m    432\u001b[0m     \u001b[39mreturn\u001b[39;00m \u001b[39mself\u001b[39m\u001b[39m.\u001b[39m__get_result()\n\u001b[0;32m--> 434\u001b[0m \u001b[39mself\u001b[39;49m\u001b[39m.\u001b[39;49m_condition\u001b[39m.\u001b[39;49mwait(timeout)\n\u001b[1;32m    436\u001b[0m \u001b[39mif\u001b[39;00m \u001b[39mself\u001b[39m\u001b[39m.\u001b[39m_state \u001b[39min\u001b[39;00m [CANCELLED, CANCELLED_AND_NOTIFIED]:\n\u001b[1;32m    437\u001b[0m     \u001b[39mraise\u001b[39;00m CancelledError()\n",
      "File \u001b[0;32m~/anaconda3/envs/trojan_detection/lib/python3.8/threading.py:302\u001b[0m, in \u001b[0;36mCondition.wait\u001b[0;34m(self, timeout)\u001b[0m\n\u001b[1;32m    300\u001b[0m \u001b[39mtry\u001b[39;00m:    \u001b[39m# restore state no matter what (e.g., KeyboardInterrupt)\u001b[39;00m\n\u001b[1;32m    301\u001b[0m     \u001b[39mif\u001b[39;00m timeout \u001b[39mis\u001b[39;00m \u001b[39mNone\u001b[39;00m:\n\u001b[0;32m--> 302\u001b[0m         waiter\u001b[39m.\u001b[39;49macquire()\n\u001b[1;32m    303\u001b[0m         gotit \u001b[39m=\u001b[39m \u001b[39mTrue\u001b[39;00m\n\u001b[1;32m    304\u001b[0m     \u001b[39melse\u001b[39;00m:\n",
      "\u001b[0;31mKeyboardInterrupt\u001b[0m: "
     ]
    }
   ],
   "source": [
    "clf_A = GradientBoostingClassifier(learning_rate=.006, n_estimators=750, min_samples_split=57, min_samples_leaf=7, max_depth=4, max_features=40)     # 1, 10, 30 \n",
    "clf_B = GradientBoostingClassifier(learning_rate=.015, n_estimators=500, min_samples_leaf= 10, min_samples_split= 75)      # .0035 1000\n",
    "param = {'max_depth': range(1, 6), 'min_samples_leaf':range(2, 31, 3), 'min_samples_split': range(2, 81, 5)}   #max_features=165, subsample=.98\n",
    "gsearch = GridSearchCV(estimator=clf_B, param_grid=param, scoring=['neg_log_loss', 'accuracy'], n_jobs=10, cv=5, refit=False);\n",
    "gsearch.fit(vit[:, :-1], vit[:, -1]);"
   ]
  },
  {
   "cell_type": "code",
   "execution_count": null,
   "metadata": {},
   "outputs": [],
   "source": [
    "result = pd.DataFrame(gsearch.cv_results_).sort_values(by=['rank_test_accuracy', 'rank_test_neg_log_loss'])\n",
    "result.to_csv('/scratch/jialin/trojan_detection/projects/tdc-starter-kit/detection/extracted_features/gsearch_result.csv')"
   ]
  },
  {
   "cell_type": "code",
   "execution_count": 18,
   "metadata": {},
   "outputs": [],
   "source": [
    "from sklearn.ensemble import GradientBoostingClassifier\n",
    "\n",
    "clf_A = GradientBoostingClassifier(learning_rate=.003, n_estimators=1500, min_samples_split=160, min_samples_leaf=18, max_depth=5, max_features=28)     # cen - .47149433, acc - .7916 \n",
    "clf_B = GradientBoostingClassifier(learning_rate=.0035, n_estimators=1000, max_depth= 7, min_samples_leaf= 10, min_samples_split= 75, max_features=165, subsample=.98)      # cen - .48890442, acc - .75\n",
    "clf_C = GradientBoostingClassifier(learning_rate=.05, n_estimators=700)     # cen - .01352295, acc - .999\n",
    "clf_A.fit(mnist[:, :-1], mnist[:, -1])\n",
    "clf_B.fit(vit[:, :-1], vit[:, -1])\n",
    "clf_C.fit(wrn[:, :-1], wrn[:, -1])\n",
    "model_class_to_clf = {'MNIST_Network': clf_A, 'SimpleViT': clf_B, 'WideResNet': clf_C}\n",
    "# model_dict = {'MNIST_Network': (1, 28, range(375, 500), mnist_ds), \n",
    "#                 'SimpleViT': (3, 32, range(250, 375), gtsrb_ds, np.arange(0, 1.01, .05), .98)}"
   ]
  },
  {
   "cell_type": "code",
   "execution_count": 31,
   "metadata": {},
   "outputs": [
    {
     "name": "stderr",
     "output_type": "stream",
     "text": [
      "100%|██████████| 1000/1000 [3:11:27<00:00, 11.49s/it] \n"
     ]
    }
   ],
   "source": [
    "valid_dir = os.path.join(dataset_path, task, 'val')\n",
    "scores = []\n",
    "for i in tqdm(range(1000)):\n",
    "    model_id = num_to_model_id(i)\n",
    "    model_path = os.path.join(valid_dir, model_id, 'model.pt')\n",
    "    with torch.no_grad():\n",
    "        model = torch.load(model_path)\n",
    "    model_class = model._get_name()\n",
    "    extracted_features = extract_weight(model)\n",
    "    if model_class in ['SimpleViT', 'MNIST_Network']:\n",
    "        eigen, _ = extract_eigen(model)\n",
    "        opt_idx_s, opt_idx_e = optimal_eigen_idx[model_class]\n",
    "        optimal_eigen_features = eigen[opt_idx_s:opt_idx_e]\n",
    "        extracted_features = np.concatenate([extracted_features, optimal_eigen_features])\n",
    "    extracted_features = extracted_features.reshape((1, -1))\n",
    "    clf = model_class_to_clf[model_class]\n",
    "    prob = clf.predict_proba(extracted_features)[0, -1]\n",
    "    scores.append(prob)"
   ]
  },
  {
   "cell_type": "code",
   "execution_count": 32,
   "metadata": {},
   "outputs": [
    {
     "name": "stdout",
     "output_type": "stream",
     "text": [
      "updating: predictions.npy (deflated 45%)\n"
     ]
    }
   ],
   "source": [
    "with open(os.path.join('mntd_submission', 'predictions.npy'), 'wb') as f:\n",
    "    np.save(f, np.array(scores))\n",
    "    \n",
    "!cd mntd_submission && zip ../mntd_submission.zip ./* && cd .."
   ]
  },
  {
   "cell_type": "code",
   "execution_count": 3,
   "metadata": {},
   "outputs": [
    {
     "data": {
      "text/plain": [
       "array([3.09753609e-16, 8.90006731e-01, 3.09753609e-16, 4.69300800e-01,\n",
       "       2.77037712e-01])"
      ]
     },
     "execution_count": 3,
     "metadata": {},
     "output_type": "execute_result"
    }
   ],
   "source": [
    "pred = np.load(os.path.join('mntd_submission', 'predictions.npy'))\n",
    "pred[:5]  #[3.09753609e-16, 9.58393766e-01, 3.09753609e-16, 3.80276671e-01, 3.89319414e-02]"
   ]
  },
  {
   "cell_type": "code",
   "execution_count": 18,
   "metadata": {},
   "outputs": [
    {
     "name": "stdout",
     "output_type": "stream",
     "text": [
      "[2.01088816e-52 9.99060635e-01 2.01088816e-52 3.98950922e-01\n",
      " 3.92657675e-02]\n",
      "updating: predictions.npy (deflated 45%)\n"
     ]
    }
   ],
   "source": [
    "T = 0.3\n",
    "pred_new = np.stack([pred, np.abs(1-pred)], axis=1)\n",
    "pred_updated = np.exp(np.log(pred_new)/T)/np.exp(np.log(pred_new)/T).sum(axis=1).reshape([-1, 1])\n",
    "pred_updated = pred_updated[:, 0]\n",
    "print(pred_updated[:5])\n",
    "with open(os.path.join('mntd_submission', 'predictions.npy'), 'wb') as f:\n",
    "    np.save(f, np.array(pred_updated))\n",
    "    \n",
    "!cd mntd_submission && zip ../mntd_submission.zip ./* && cd .."
   ]
  },
  {
   "cell_type": "markdown",
   "metadata": {},
   "source": [
    "1. see titration analysis work independently\n",
    "2. see t-score difference separated on both triggers"
   ]
  }
 ],
 "metadata": {
  "kernelspec": {
   "display_name": "Python 3.8.6 ('trojan_detection')",
   "language": "python",
   "name": "python3"
  },
  "language_info": {
   "codemirror_mode": {
    "name": "ipython",
    "version": 3
   },
   "file_extension": ".py",
   "mimetype": "text/x-python",
   "name": "python",
   "nbconvert_exporter": "python",
   "pygments_lexer": "ipython3",
   "version": "3.8.6"
  },
  "vscode": {
   "interpreter": {
    "hash": "1c0706411323783b45d1f1fccf219b1972abc5750e6769d15fea04047a43b371"
   }
  }
 },
 "nbformat": 4,
 "nbformat_minor": 2
}
