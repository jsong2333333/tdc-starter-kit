{
 "cells": [
  {
   "cell_type": "code",
   "execution_count": 5,
   "metadata": {},
   "outputs": [],
   "source": [
    "import torch\n",
    "import os\n",
    "import json\n",
    "from tqdm import tqdm\n",
    "import numpy as np\n",
    "import matplotlib.pyplot as plt\n",
    "from torch import nn\n",
    "import torch.nn.functional as F\n",
    "import torch.backends.cudnn as cudnn\n",
    "import pandas as pd\n",
    "cudnn.benchmark = True  # fire on all cylinders\n",
    "from sklearn.metrics import roc_auc_score, roc_curve\n",
    "import sys\n",
    "\n",
    "sys.path.insert(0, '..')"
   ]
  },
  {
   "cell_type": "markdown",
   "metadata": {},
   "source": [
    "## Preparation"
   ]
  },
  {
   "cell_type": "code",
   "execution_count": 6,
   "metadata": {},
   "outputs": [],
   "source": [
    "dataset_path = '../../tdc_datasets'\n",
    "task = 'detection'\n",
    "MODEL_FILEDIR = os.path.join(dataset_path, task, 'train')\n",
    "EXTRACTED_DIR = './extracted_features'\n",
    "NUM_MODEL = 500\n",
    "model_classes = ['MNIST_Network', 'SimpleViT', 'WideResNet']\n",
    "clean_or_trojan = ['clean', 'trojan']\n",
    "\n",
    "def num_to_model_id(num):\n",
    "    return 'id-' + str(10000+num)[1:]"
   ]
  },
  {
   "cell_type": "markdown",
   "metadata": {},
   "source": [
    "## Feature Extraction"
   ]
  },
  {
   "cell_type": "markdown",
   "metadata": {},
   "source": [
    "## Data Loading"
   ]
  },
  {
   "cell_type": "markdown",
   "metadata": {},
   "source": [
    "#### Directly load without saving locally"
   ]
  },
  {
   "cell_type": "code",
   "execution_count": 23,
   "metadata": {},
   "outputs": [
    {
     "name": "stderr",
     "output_type": "stream",
     "text": [
      "100%|██████████| 500/500 [00:37<00:00, 13.24it/s]\n",
      "100%|██████████| 500/500 [00:37<00:00, 13.51it/s]\n"
     ]
    }
   ],
   "source": [
    "from itertools import product\n",
    "\n",
    "def load_model_params(all_features, clean_or_trojan='clean', extraction_method=extract_weight, model_filedir=MODEL_FILEDIR, add_label=True):\n",
    "    for num in tqdm(range(NUM_MODEL)):\n",
    "        model_filepath = os.path.join(model_filedir, clean_or_trojan, num_to_model_id(num), 'model.pt')\n",
    "        with torch.no_grad():\n",
    "            model = torch.load(model_filepath)\n",
    "        model_class = model._get_name()\n",
    "        params = extraction_method(model)\n",
    "        if add_label:\n",
    "            params = np.append(params, [clean_or_trojan != 'clean'], axis=0)\n",
    "        all_features[model_class+'_'+clean_or_trojan].append(params)\n",
    "    for k, v in all_features.items():\n",
    "        if len(v) != 0:\n",
    "            all_features[k] = np.stack(v, axis=0)\n"
   ]
  },
  {
   "cell_type": "code",
   "execution_count": null,
   "metadata": {},
   "outputs": [],
   "source": [
    "weights = {mc+'_'+cot:[] for mc, cot in list(product(model_classes, clean_or_trojan))}\n",
    "\n",
    "load_model_params(weights)\n",
    "load_model_params(weights, 'trojan')"
   ]
  },
  {
   "cell_type": "code",
   "execution_count": 39,
   "metadata": {},
   "outputs": [
    {
     "name": "stderr",
     "output_type": "stream",
     "text": [
      "100%|██████████| 500/500 [02:06<00:00,  3.95it/s]\n",
      "100%|██████████| 500/500 [02:06<00:00,  3.96it/s]\n"
     ]
    }
   ],
   "source": [
    "eigens = {mc+'_'+cot:[] for mc, cot in list(product(model_classes, clean_or_trojan))}\n",
    "\n",
    "load_model_params(eigens, clean_or_trojan='clean', extraction_method=extract_eigen)\n",
    "load_model_params(eigens, clean_or_trojan='trojan', extraction_method=extract_eigen)"
   ]
  },
  {
   "cell_type": "markdown",
   "metadata": {},
   "source": [
    "#### To save and load the params from directory"
   ]
  },
  {
   "cell_type": "code",
   "execution_count": null,
   "metadata": {},
   "outputs": [],
   "source": [
    "from itertools import product\n",
    "\n",
    "def save_model_params_npy(clean_or_trojan='clean', extraction_method=extract_weight, model_filedir=MODEL_FILEDIR, extracted_dir=EXTRACTED_DIR):\n",
    "    for num in tqdm(range(NUM_MODEL)):\n",
    "        model_filepath = os.path.join(model_filedir, clean_or_trojan, num_to_model_id(num), 'model.pt')\n",
    "        with torch.no_grad():\n",
    "            model = torch.load(model_filepath)\n",
    "        model_class = model._get_name()\n",
    "        params = extraction_method(model)\n",
    "        potential_dir = os.path.join(extracted_dir, clean_or_trojan, model_class)\n",
    "        if os.path.exists(potential_dir):\n",
    "            np.save(os.path.join(potential_dir, f'{num_to_model_id(num)}.npy'), params)\n",
    "        else:\n",
    "            os.mkdir(potential_dir)\n",
    "            np.save(os.path.join(potential_dir, f'{num_to_model_id(num)}.npy'), params)\n",
    "\n",
    "# save_model_params_npy()\n",
    "# save_model_params_npy('trojan')\n",
    "\n",
    "\n",
    "def load_all_model_params(all_features, extracted_dir=EXTRACTED_DIR, add_label=True):\n",
    "    for key in all_features.keys():\n",
    "        c_o_t = key.split('_')[-1]\n",
    "        model_class = key.replace(c_o_t, '')\n",
    "        params_dir = os.path.join(extracted_dir, c_o_t, model_class)\n",
    "        features = []\n",
    "        for param_dir in os.listdir(params_dir):\n",
    "            model_param = np.load(os.path.join(params_dir, param_dir))\n",
    "            features.append(model_param)\n",
    "        features = np.stack(features, axis=0)\n",
    "        if add_label:\n",
    "            label = c_o_t != 'clean'\n",
    "            labels = np.asarray([label] * features.shape[0]).reshape((features.shape[0], 1))\n",
    "            features = np.append(features, labels, axis=1)\n",
    "        all_features[key] = features\n",
    "    return all_features"
   ]
  },
  {
   "cell_type": "code",
   "execution_count": 40,
   "metadata": {},
   "outputs": [],
   "source": [
    "mnist_weight = np.concatenate((weights['MNIST_Network_clean'], weights['MNIST_Network_trojan']), axis=0)\n",
    "vit_weight = np.concatenate((weights['SimpleViT_clean'], weights['SimpleViT_trojan']), axis=0)\n",
    "wrn_weight = np.concatenate((weights['WideResNet_clean'], weights['WideResNet_trojan']), axis=0)\n",
    "mnist_eigen = np.concatenate((eigens['MNIST_Network_clean'], eigens['MNIST_Network_trojan']), axis=0)\n",
    "vit_eigen = np.concatenate((eigens['SimpleViT_clean'], eigens['SimpleViT_trojan']), axis=0)\n",
    "wrn_eigen = np.concatenate((eigens['WideResNet_clean'], eigens['WideResNet_trojan']), axis=0)"
   ]
  },
  {
   "cell_type": "code",
   "execution_count": 49,
   "metadata": {},
   "outputs": [],
   "source": [
    "mnist = np.concatenate((mnist_weight[:, :-1], mnist_eigen), axis=1)\n",
    "vit = np.concatenate((vit_weight[:, :-1], vit_eigen), axis=1)\n",
    "wrn = np.concatenate((wrn_weight[:, :-1], wrn_eigen), axis=1)"
   ]
  },
  {
   "cell_type": "code",
   "execution_count": 41,
   "metadata": {},
   "outputs": [
    {
     "data": {
      "text/plain": [
       "((250, 91), (250, 212), (250, 331), (250, 3164), (500, 581), (500, 2817))"
      ]
     },
     "execution_count": 41,
     "metadata": {},
     "output_type": "execute_result"
    }
   ],
   "source": [
    "mnist_weight.shape, mnist_eigen.shape, vit_weight.shape, vit_eigen.shape, wrn_weight.shape, wrn_eigen.shape"
   ]
  },
  {
   "cell_type": "markdown",
   "metadata": {},
   "source": [
    "## Train / Tune the Models"
   ]
  },
  {
   "cell_type": "code",
   "execution_count": 42,
   "metadata": {},
   "outputs": [],
   "source": [
    "from sklearn.metrics import log_loss\n",
    "from sklearn.ensemble import GradientBoostingClassifier\n",
    "from sklearn.model_selection import train_test_split\n",
    "from sklearn.model_selection import GridSearchCV\n",
    "\n",
    "def bootstrap_performance(X, y, clf, n=10, test_size=.2, eps=.01):\n",
    "    all_cross_entropy, all_accuracy = [], []\n",
    "    for i in tqdm(range(n)):\n",
    "        X_train, X_test, y_train, y_test = train_test_split(X, y, test_size=test_size, random_state=i)\n",
    "        \n",
    "        clf.set_params(random_state=i)            \n",
    "        clf.fit(X_train, y_train)\n",
    "        \n",
    "        all_cross_entropy.append(log_loss(y_test, clf.predict_proba(X_test), eps=eps))\n",
    "        all_accuracy.append(clf.score(X_test, y_test))\n",
    "    return all_cross_entropy, all_accuracy"
   ]
  },
  {
   "cell_type": "code",
   "execution_count": 50,
   "metadata": {},
   "outputs": [
    {
     "data": {
      "text/plain": [
       "0.66"
      ]
     },
     "execution_count": 50,
     "metadata": {},
     "output_type": "execute_result"
    }
   ],
   "source": [
    "clf = GradientBoostingClassifier(n_estimators=1000, learning_rate=0.02)\n",
    "X_train, X_test, y_train, y_test = train_test_split(vit[:, :-1], vit[:, -1], test_size=.2)\n",
    "clf.fit(X_train, y_train)\n",
    "clf.score(X_test, y_test)"
   ]
  },
  {
   "cell_type": "code",
   "execution_count": 214,
   "metadata": {},
   "outputs": [],
   "source": [
    "result = pd.DataFrame(gsearch.cv_results_).sort_values(by=['rank_test_accuracy', 'rank_test_neg_log_loss'])"
   ]
  },
  {
   "cell_type": "markdown",
   "metadata": {},
   "source": [
    "## Feeding Random Noise"
   ]
  },
  {
   "cell_type": "code",
   "execution_count": 105,
   "metadata": {},
   "outputs": [],
   "source": [
    "import torch\n",
    "import torchvision.transforms as T\n",
    "\n",
    "def random_noise_generator(channel, resolution, num_of_datapts=1000, generate_method='random_tensor', noise_level=1, input_data=None):\n",
    "    random_noise = None\n",
    "    if generate_method == 'random_tensor':\n",
    "        random_noise = torch.rand(num_of_datapts, channel, resolution, resolution)\n",
    "    elif generate_method == 'gaussian_blur':\n",
    "        blurrer = T.GaussianBlur(kernel_size=(5, 9), sigma=(0.1, 5))\n",
    "        # blurrer = T.GaussianBlur(kernel_size=resolution-1)\n",
    "        if input_data is None:\n",
    "            # input_data = torch.zeros(num_of_datapts, channel, resolution, resolution)\n",
    "            # input_data = torch.rand(num_of_datapts, channel, resolution, resolution)\n",
    "            input_data = torch.randint(0, 256, (num_of_datapts, channel, resolution, resolution)).type(torch.float)\n",
    "        rnd_idx = np.random.permutation(num_of_datapts)[:num_of_datapts*noise_level]\n",
    "        random_noise = input_data\n",
    "        random_noise[rnd_idx, :] = blurrer(input_data[rnd_idx, :])\n",
    "    return random_noise"
   ]
  },
  {
   "cell_type": "code",
   "execution_count": 106,
   "metadata": {},
   "outputs": [],
   "source": [
    "import json\n",
    "device = torch.device('cuda' if torch.cuda.is_available() else 'cpu')\n",
    "\n",
    "def extract_info_for_model_input(clean_or_trojan, model_id):\n",
    "    curr_model_dir = os.path.join(MODEL_FILEDIR, clean_or_trojan, num_to_model_id(model_id))\n",
    "    with open(os.path.join(curr_model_dir, 'info.json'), 'r') as f:\n",
    "        curr_model_info = json.load(f)\n",
    "        resolution = curr_model_info['input_resolution']\n",
    "        channel = 1 if curr_model_info['dataset'] == 'MNIST' else 3\n",
    "    return channel, resolution\n",
    "\n",
    "def extract_prob_from_models(clean_or_trojan, model_id, random_noise):\n",
    "    curr_model_dir = os.path.join(MODEL_FILEDIR, clean_or_trojan, num_to_model_id(model_id))\n",
    "    with torch.no_grad():\n",
    "        curr_model = torch.load(os.path.join(curr_model_dir, 'model.pt')).to(device)\n",
    "        random_noise = random_noise.to(device)\n",
    "        output = curr_model(random_noise).softmax(dim=-1).mean(dim=0)\n",
    "    return output.cpu().detach().numpy()"
   ]
  },
  {
   "cell_type": "code",
   "execution_count": 114,
   "metadata": {},
   "outputs": [
    {
     "name": "stderr",
     "output_type": "stream",
     "text": [
      "100%|██████████| 500/500 [13:45<00:00,  1.65s/it]\n"
     ]
    }
   ],
   "source": [
    "model_nums = range(0, 500)\n",
    "iters = 1\n",
    "cleans_model_avgs, trojan_model_avgs = [], []\n",
    "for model_num in tqdm(model_nums):\n",
    "    clean_outputs, trojan_outputs = [], []\n",
    "    for _ in range(iters):\n",
    "        cha_c, res_c = extract_info_for_model_input('clean', model_num)\n",
    "        cha_t, res_t = extract_info_for_model_input('trojan', model_num)\n",
    "        random_noise_c = random_noise_generator(cha_c, res_c, generate_method='gaussian_blur', num_of_datapts=5000)\n",
    "        random_noise_t = random_noise_generator(cha_t, res_t, generate_method='gaussian_blur', num_of_datapts=5000)\n",
    "        clean_outputs.append(extract_prob_from_models('clean', model_num, random_noise_c))\n",
    "        trojan_outputs.append(extract_prob_from_models('trojan', model_num, random_noise_t))\n",
    "    clean_avg = np.stack(clean_outputs, axis=0).mean(axis=0)\n",
    "    trojan_avg = np.stack(trojan_outputs, axis=0).mean(axis=0)\n",
    "    cleans_model_avgs.append(clean_avg)\n",
    "    trojan_model_avgs.append(trojan_avg)"
   ]
  },
  {
   "cell_type": "code",
   "execution_count": 131,
   "metadata": {},
   "outputs": [],
   "source": [
    "model_sep = [0, 125, 250, 375, 500]\n",
    "clean_avgs, trojan_avgs = [], []\n",
    "for i in range(4):\n",
    "    clean_avgs.append(np.stack(cleans_model_avgs[model_sep[i]: model_sep[i+1]], axis=0).mean(axis=0))\n",
    "    trojan_avgs.append(np.stack(trojan_model_avgs[model_sep[i]: model_sep[i+1]], axis=0).mean(axis=0))"
   ]
  },
  {
   "cell_type": "code",
   "execution_count": 135,
   "metadata": {},
   "outputs": [
    {
     "data": {
      "image/png": "[encoded data removed]",
      "text/plain": [
       "<Figure size 2400x400 with 4 Axes>"
      ]
     },
     "metadata": {},
     "output_type": "display_data"
    }
   ],
   "source": [
    "import matplotlib.pyplot as plt\n",
    "\n",
    "fig, axs = plt.subplots(1, 4, figsize=(24, 4))\n",
    "\n",
    "for ind, ax in enumerate(axs):\n",
    "    clean_avg = clean_avgs[ind]\n",
    "    trojan_avg = trojan_avgs[ind]\n",
    "    num_classes = clean_avg.shape[0]\n",
    "    baseline = [1/num_classes]*num_classes\n",
    "    xlabel = list(range(num_classes))\n",
    "    ax.plot(xlabel, baseline, c='red', label='baseline')\n",
    "    ax.scatter(xlabel, clean_avg, c='blue', label='clean', s=10)\n",
    "    ax.scatter(xlabel, trojan_avg, c='green', label='trojan', s=10)\n",
    "\n",
    "plt.legend()\n",
    "plt.show()"
   ]
  },
  {
   "cell_type": "markdown",
   "metadata": {},
   "source": [
    "# Submission"
   ]
  },
  {
   "cell_type": "code",
   "execution_count": 210,
   "metadata": {},
   "outputs": [
    {
     "name": "stderr",
     "output_type": "stream",
     "text": [
      "13998.76s - pydevd: Sending message related to process being replaced timed-out after 5 seconds\n"
     ]
    },
    {
     "name": "stdout",
     "output_type": "stream",
     "text": [
      "  adding: predictions.npy (deflated 45%)\n"
     ]
    }
   ],
   "source": [
    "with open(os.path.join('mntd_submission', 'predictions.npy'), 'wb') as f:\n",
    "    np.save(f, np.array(scores))\n",
    "    \n",
    "!cd mntd_submission && zip ../mntd_submission.zip ./* && cd .."
   ]
  },
  {
   "cell_type": "code",
   "execution_count": 211,
   "metadata": {},
   "outputs": [
    {
     "data": {
      "text/plain": [
       "array([0.06724423, 0.69379105, 0.06724423, 0.37470518, 0.06968193])"
      ]
     },
     "execution_count": 211,
     "metadata": {},
     "output_type": "execute_result"
    }
   ],
   "source": [
    "pred = np.load(os.path.join('mntd_submission', 'predictions.npy'))"
   ]
  }
 ],
 "metadata": {
  "kernelspec": {
   "display_name": "Python 3.8.6 ('trojan_detection')",
   "language": "python",
   "name": "python3"
  },
  "language_info": {
   "codemirror_mode": {
    "name": "ipython",
    "version": 3
   },
   "file_extension": ".py",
   "mimetype": "text/x-python",
   "name": "python",
   "nbconvert_exporter": "python",
   "pygments_lexer": "ipython3",
   "version": "3.8.6"
  },
  "vscode": {
   "interpreter": {
    "hash": "1c0706411323783b45d1f1fccf219b1972abc5750e6769d15fea04047a43b371"
   }
  }
 },
 "nbformat": 4,
 "nbformat_minor": 2
}
